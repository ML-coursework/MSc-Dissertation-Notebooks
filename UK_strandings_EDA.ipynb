{
 "cells": [
  {
   "cell_type": "markdown",
   "id": "df1e4468-0039-4216-83c5-5aa508013454",
   "metadata": {},
   "source": [
    "# <u>UK Strandings data cleaning</u> "
   ]
  },
  {
   "cell_type": "markdown",
   "id": "5ddafbf8-4f6e-424e-b35c-8f70a83d40d3",
   "metadata": {},
   "source": [
    "## Exploratory Data Analysis (EDA) and cleaning"
   ]
  },
  {
   "cell_type": "code",
   "execution_count": null,
   "id": "333bedaf-65ff-40fe-bdf3-9d858199a338",
   "metadata": {},
   "outputs": [],
   "source": [
    "# Importing Python packages and modules\n",
    "# !pip install contextily\n",
    "import geopandas as gpd\n",
    "import pandas as pd\n",
    "from shapely.geometry import Point\n",
    "import numpy as np\n",
    "import matplotlib.pyplot as plt\n",
    "import folium\n",
    "from shapely.geometry import Point, LineString, MultiLineString\n",
    "from shapely.ops import unary_union\n",
    "from IPython.display import FileLink\n",
    "import calendar\n",
    "import matplotlib.cm as cm\n",
    "import matplotlib.colors as mcolors\n",
    "import matplotlib.pyplot as plt\n",
    "import matplotlib.gridspec as gridspec\n",
    "import calendar, math\n",
    "import fiona\n",
    "import os\n",
    "import warnings\n",
    "import dataframe_image as dfi\n",
    "from branca.element import Template, MacroElement\n",
    "import calendar\n",
    "import contextily as ctx"
   ]
  },
  {
   "cell_type": "markdown",
   "id": "4d11ea62-60a6-4c93-b130-f4be26271b95",
   "metadata": {},
   "source": [
    "## Importing the data\n",
    "#### Strandings data from [Cetacean Strandings Investigation Program (CSIP)](https://ukstrandings.org/) "
   ]
  },
  {
   "cell_type": "code",
   "execution_count": null,
   "id": "5b5794a5-a63e-4cb7-a184-4a5cd40643bd",
   "metadata": {},
   "outputs": [],
   "source": [
    "# Strandings CSV (points) \n",
    "Strandings_df = gpd.read_file(\"UK_Ire_Merg.csv\")"
   ]
  },
  {
   "cell_type": "markdown",
   "id": "5d322f1d-4c04-4871-9905-fb019775e777",
   "metadata": {},
   "source": [
    "## Strandings data basic info\n",
    "\n",
    "#### I did some basic cleaning, removing and renaming some columns so they matched in both datasets, and combined the UK and Irish data in Excel "
   ]
  },
  {
   "cell_type": "code",
   "execution_count": null,
   "id": "f9839d34-cfc7-4ef4-b0f8-86f6d7858513",
   "metadata": {},
   "outputs": [],
   "source": [
    "Strandings_df.head()"
   ]
  },
  {
   "cell_type": "code",
   "execution_count": null,
   "id": "75c760e9-6761-430b-997f-97a1d9af9b2b",
   "metadata": {},
   "outputs": [],
   "source": [
    "Strandings_df.describe()"
   ]
  },
  {
   "cell_type": "markdown",
   "id": "1ba4acda-dc38-49b3-b094-5411860c615b",
   "metadata": {},
   "source": [
    "#### Everything looks OK, although 79 species it to many so that will need cleaning"
   ]
  },
  {
   "cell_type": "code",
   "execution_count": null,
   "id": "ec561a1c-30df-4fdc-ba58-5598f0d76e68",
   "metadata": {},
   "outputs": [],
   "source": [
    "Strandings_df.info()"
   ]
  },
  {
   "cell_type": "markdown",
   "id": "f5ef00cb-fa46-41e0-b394-c4d8ef46b741",
   "metadata": {},
   "source": [
    "-----------------------------------------"
   ]
  },
  {
   "cell_type": "markdown",
   "id": "3bc08777-b8e7-47c7-a04e-a8a845b0256c",
   "metadata": {},
   "source": [
    "#### Converting into a geodataframe"
   ]
  },
  {
   "cell_type": "code",
   "execution_count": null,
   "id": "54287b3a-9985-41c0-afcf-a93cb4f778e8",
   "metadata": {},
   "outputs": [],
   "source": [
    "# Checking for non-numeric longitudes\n",
    "print(\"Non-numeric longitude examples:\")\n",
    "print(Strandings_df.loc[pd.to_numeric(Strandings_df['Longitude'], errors='coerce').isna(), 'Longitude'].unique())\n",
    "# Checking for non-numeric latitudes\n",
    "print(\"Non-numeric latitude examples:\")\n",
    "print(Strandings_df.loc[pd.to_numeric(Strandings_df['Latitude'], errors='coerce').isna(), 'Latitude'].unique())"
   ]
  },
  {
   "cell_type": "code",
   "execution_count": null,
   "id": "55d4d8c4-3d22-4eee-9c65-46cf91f90cb1",
   "metadata": {},
   "outputs": [],
   "source": [
    "# Count non-numeric longitudes\n",
    "non_numeric_lon = pd.to_numeric(Strandings_df['Longitude'], errors='coerce').isna()\n",
    "print(\"Non-numeric longitude count:\", non_numeric_lon.sum())\n",
    "\n",
    "# Count non-numeric latitudes\n",
    "non_numeric_lat = pd.to_numeric(Strandings_df['Latitude'], errors='coerce').isna()\n",
    "print(\"Non-numeric latitude count:\", non_numeric_lat.sum())\n"
   ]
  },
  {
   "cell_type": "code",
   "execution_count": null,
   "id": "4d42dde3-f992-45f5-8689-53507b014dfb",
   "metadata": {},
   "outputs": [],
   "source": [
    "# Convert longitude and latitude into numeric floats\n",
    "Strandings_df['Longitude'] = pd.to_numeric(Strandings_df['Longitude'], errors='coerce')\n",
    "Strandings_df['Latitude'] = pd.to_numeric(Strandings_df['Latitude'], errors='coerce')\n",
    "\n",
    "# Dropping any records with missing coordinates\n",
    "Strandings_df = Strandings_df.dropna(subset=['Longitude', 'Latitude'])\n",
    "\n",
    "# Creating a geometry column that is needed to convert DF to GDF\n",
    "Strandings_df['geometry'] = [Point(xy) for xy in zip(Strandings_df['Longitude'], Strandings_df['Latitude'])]\n",
    "\n",
    "# Setting the CRS to EPSG:4326 as its commonly used for mapping visulisations\n",
    "Strandings_gdf = gpd.GeoDataFrame(Strandings_df, geometry='geometry', crs=\"EPSG:4326\")\n",
    "\n",
    "# Quicking results\n",
    "print(\"CRS:\", Strandings_gdf.crs)\n",
    "Strandings_gdf.head()\n"
   ]
  },
  {
   "cell_type": "code",
   "execution_count": null,
   "id": "4959083a-0994-45a9-8762-a4d6e294a32f",
   "metadata": {},
   "outputs": [],
   "source": [
    "Strandings_gdf.info()"
   ]
  },
  {
   "cell_type": "markdown",
   "id": "df28afb6-afd3-45f7-a329-639d1d86f5cd",
   "metadata": {},
   "source": [
    "#### Dropped 28 non-numeric lat longs from 27576 down to 27548"
   ]
  },
  {
   "cell_type": "markdown",
   "id": "f6eef95b-dddd-4975-8e0a-9dca11e8ab63",
   "metadata": {},
   "source": [
    "----------------------"
   ]
  },
  {
   "cell_type": "markdown",
   "id": "d719f656-4f87-4dfb-b996-27b137753e18",
   "metadata": {},
   "source": [
    "## Data visualization and outliers"
   ]
  },
  {
   "cell_type": "code",
   "execution_count": null,
   "id": "bcd52cec-44f2-4f4d-b105-d7ffce4cc9ad",
   "metadata": {},
   "outputs": [],
   "source": [
    "# Reprojecting to Web Mercator for basemap tiles\n",
    "gdf_web = Strandings_gdf.to_crs(epsg=3857)\n",
    "\n",
    "# Plotting with solid points\n",
    "fig, ax = plt.subplots(figsize=(10, 10))\n",
    "gdf_web.plot(\n",
    "    ax=ax,\n",
    "    color='black',\n",
    "    markersize=10,\n",
    "    alpha=0.7)\n",
    "\n",
    "# Adding a basemap\n",
    "ctx.add_basemap(ax, source=ctx.providers.CartoDB.Positron)\n",
    "\n",
    "# Cleaning up axes\n",
    "ax.set_axis_off()\n",
    "plt.title(\"Strandings Outliers\", fontsize=15)\n",
    "\n",
    "# Saving and displaying\n",
    "plt.savefig(\n",
    "    \"Data_cleaning_images/Strandings_Cleaning_outliers_points_map.png\",\n",
    "    dpi=150, bbox_inches=\"tight\")\n",
    "plt.show()\n"
   ]
  },
  {
   "cell_type": "markdown",
   "id": "801225ef-4692-4e0a-8828-2b53db4b2169",
   "metadata": {},
   "source": [
    "#### There are some major outliers that are worth a closer look"
   ]
  },
  {
   "cell_type": "code",
   "execution_count": null,
   "id": "9756b68c-bd68-4dc1-81c4-aa54b9abdb3b",
   "metadata": {},
   "outputs": [],
   "source": [
    "# Creating a Folium map of UK\n",
    "m = folium.Map(location=[53.079, -23.815], zoom_start=4, control_scale=True)\n",
    "\n",
    "# Adding the strandings data with popups to get a closer look at outliers\n",
    "for idx, row in Strandings_gdf.iterrows():\n",
    "    folium.CircleMarker(\n",
    "        location=[row['Latitude'], row['Longitude']],\n",
    "        radius=1,              \n",
    "        color='black',       \n",
    "        fill=True,\n",
    "        fill_color='black', \n",
    "        fill_opacity=0.7,\n",
    "        popup=f\"ID: {row['ID']}<br>Local Authority: {row['Local Authority']}<br>Species: {row['Species']}\"\n",
    "    ).add_to(m)\n",
    "\n",
    "# Title (fixed at top)\n",
    "title_html = \"\"\"\n",
    "<div style=\"\n",
    " position: fixed; top: 10px; left: 50%; transform: translateX(-50%);\n",
    " z-index: 9999; background: white; padding: 6px 10px; border: 1px solid #999;\n",
    " border-radius: 6px; font-weight: 600;\">\n",
    "Original Strandings\n",
    "</div>\n",
    "\"\"\"\n",
    "m.get_root().html.add_child(folium.Element(title_html))\n",
    "\n",
    "# Displaying the map\n",
    "m"
   ]
  },
  {
   "cell_type": "code",
   "execution_count": null,
   "id": "467c8d1d-2e2a-4880-9a38-cfaf5372c33e",
   "metadata": {},
   "outputs": [],
   "source": [
    "# Downloading the image for use in the write-up\n",
    "m.save(\"Data_cleaning_images/Strandings_Cleaning_Orginal_Strandings_Maps.html\")"
   ]
  },
  {
   "cell_type": "markdown",
   "id": "ba388988-13ac-444b-9d12-adfd6a4f86ab",
   "metadata": {},
   "source": [
    "#### Link to orginal strandings data [Netlify map](https://orginal-strandings.netlify.app/) "
   ]
  },
  {
   "cell_type": "code",
   "execution_count": null,
   "id": "44abcfdc-12fd-46f4-85e4-790b75b8c9af",
   "metadata": {},
   "outputs": [],
   "source": [
    "# Creating a Folium map showing a closer image of messy data points\n",
    "m = folium.Map(location=[50.459, -4.662], zoom_start=8)\n",
    "\n",
    "# Adding the strandings data with ID popups\n",
    "for idx, row in Strandings_gdf.iterrows():\n",
    "    folium.CircleMarker(\n",
    "        location=[row['Latitude'], row['Longitude']],\n",
    "        radius=2,              \n",
    "        color='black',       \n",
    "        fill=True,\n",
    "        fill_color='black', \n",
    "        fill_opacity=0.7,\n",
    "        popup=f\"ID: {row['ID']}<br>Local Authority: {row['Local Authority']}<br>Species: {row['Species']}\"\n",
    "    ).add_to(m)\n",
    "\n",
    "# Displaying the map\n",
    "m"
   ]
  },
  {
   "cell_type": "markdown",
   "id": "d013feaa-fb2c-47c8-adbe-1dca0dbb9c82",
   "metadata": {},
   "source": [
    "--------"
   ]
  },
  {
   "cell_type": "markdown",
   "id": "9267dc9f-69f7-42a2-b7e5-63dd39ef0907",
   "metadata": {},
   "source": [
    "## _Removing outliers_"
   ]
  },
  {
   "cell_type": "markdown",
   "id": "2ce6b0a8-2489-45ab-8768-ddb7f54f057f",
   "metadata": {},
   "source": [
    "## Uploading a coastline geopackage to remove outliers and snap remaining points to"
   ]
  },
  {
   "cell_type": "code",
   "execution_count": null,
   "id": "eac5a156-9323-4c70-b3e3-71c453148f48",
   "metadata": {},
   "outputs": [],
   "source": [
    "#Ireland boundary\n",
    "ireland = gpd.read_file(\"Ireland_coastline.gpkg\", layer=\"ADM_ADM_0\")\n",
    "print(\"Ireland CRS:\", ireland.crs)\n",
    "\n",
    "# Quick check\n",
    "print(\"Ireland features:\", len(ireland))\n",
    "display(ireland.head())\n",
    "\n",
    "# Visualising Ireland coastline\n",
    "fig, ax = plt.subplots(1, 1, figsize=(6, 6))\n",
    "ireland.plot(ax=ax, edgecolor=\"black\", facecolor=\"lightgray\", linewidth=0.5)\n",
    "ax.set_title(\"Ireland boundary\", fontsize=16)\n",
    "ax.set_axis_off()\n",
    "plt.show()"
   ]
  },
  {
   "cell_type": "code",
   "execution_count": null,
   "id": "aff2d7c6-dc69-4577-9cc5-14a4f20490a4",
   "metadata": {},
   "outputs": [],
   "source": [
    "# UK boundary\n",
    "uk = gpd.read_file(\"UK_coastline.gpkg\", layer=\"ADM_ADM_0\")\n",
    "print(\"UK CRS:\", uk.crs)\n",
    "#Quick check\n",
    "print(\"UK features:\", len(uk))\n",
    "display(uk.head())\n",
    "\n",
    "# Visualising UK coastline\n",
    "fig, ax = plt.subplots(1, 1, figsize=(6, 6))\n",
    "uk.plot(ax=ax, edgecolor=\"black\", facecolor=\"lightgray\", linewidth=0.5)\n",
    "ax.set_title(\"United Kingdom boundary\", fontsize=16)\n",
    "ax.set_axis_off()\n",
    "plt.show()"
   ]
  },
  {
   "cell_type": "code",
   "execution_count": null,
   "id": "00cf3dbc-dd58-47bb-a9d1-8a3f2a8986f1",
   "metadata": {},
   "outputs": [],
   "source": [
    "# Combine the Ireland and UK coastlines\n",
    "combined = gpd.GeoDataFrame(\n",
    "    pd.concat([ireland, uk], ignore_index=True),\n",
    "    crs=ireland.crs)\n",
    "# Checking the CRS\n",
    "print(\"Combined CRS:\", combined.crs)"
   ]
  },
  {
   "cell_type": "code",
   "execution_count": null,
   "id": "003726b3-6e63-42c6-a796-9895033caff2",
   "metadata": {},
   "outputs": [],
   "source": [
    "# Using dissolve to remove the Northern Ireland/Ireland inland boundary\n",
    "outline = combined.dissolve()"
   ]
  },
  {
   "cell_type": "code",
   "execution_count": null,
   "id": "86786c0f-536b-420e-9579-0ae8fc9f91fb",
   "metadata": {},
   "outputs": [],
   "source": [
    "# Visualising dissolved outline\n",
    "fig, ax = plt.subplots(1, 1, figsize=(6, 6))\n",
    "outline.plot(ax=ax, edgecolor=\"black\", facecolor=\"lightgray\")\n",
    "ax.set_title(\"Combined Ireland & UK (Dissolved)\", fontsize=16)\n",
    "ax.set_axis_off()\n",
    "# Saving and displaying the map\n",
    "plt.savefig(\"Data_cleaning_images/Strandings_Cleaning_Combined_Coastline.png\", dpi=150, bbox_inches=\"tight\")\n",
    "plt.show()"
   ]
  },
  {
   "cell_type": "code",
   "execution_count": null,
   "id": "4fa3cee8-c452-444e-9d0e-f8ba7a145bd3",
   "metadata": {},
   "outputs": [],
   "source": [
    "#Removing warnings for aesthetics \n",
    "warnings.filterwarnings(\n",
    "    \"ignore\",\n",
    "    message=\".*unary_union.*deprecated.*\")\n",
    "\n",
    "\n",
    "# Saving as a geopackage into the main folder for use with the main notebooks\n",
    "outline.to_file(\"../merged_outline.gpkg\", layer=\"outline\", driver=\"GPKG\")\n",
    "# Reprojecting to British National Grid (EPSG:27700) (bng) as its most accurate for UK\n",
    "outline_bng = outline.to_crs(\"EPSG:27700\")\n",
    "# Building coastline boundary as MultiLineString\n",
    "coastline_boundary = outline_bng.geometry.unary_union.boundary\n",
    "#Checking the crs\n",
    "print(\"Original strandings CRS:\", Strandings_gdf.crs)"
   ]
  },
  {
   "cell_type": "code",
   "execution_count": null,
   "id": "8c4acb26-44b9-46ee-8c58-6f5b202fd475",
   "metadata": {},
   "outputs": [],
   "source": [
    "# Reproject strandings to EPSG:27700 for snapping\n",
    "gdf_bng = Strandings_gdf.to_crs(\"EPSG:27700\")\n",
    "print(\"Strandings reprojected CRS:\", gdf_bng.crs)"
   ]
  },
  {
   "cell_type": "markdown",
   "id": "692f8c38-b974-4eea-a78c-0666a208cb16",
   "metadata": {},
   "source": [
    "-------------------"
   ]
  },
  {
   "cell_type": "markdown",
   "id": "0b45a5a3-b2b6-45bc-96b9-fd3ac811ccdb",
   "metadata": {},
   "source": [
    "##### Remove any strandings that are further from the coast than 5 km"
   ]
  },
  {
   "cell_type": "code",
   "execution_count": null,
   "id": "eef2c026-b710-409e-9fd5-efb9fbb4cce4",
   "metadata": {},
   "outputs": [],
   "source": [
    "# Simplifing the coastline boundary to reduce geometry complexity\n",
    "simplified_boundary = coastline_boundary.simplify(tolerance=100) \n",
    "\n",
    "# Buffering the boundary\n",
    "coast_buffer = simplified_boundary.buffer(5000) \n",
    "\n",
    "# Creating a GeoDataFrame for the buffer\n",
    "coast_buffer_gdf = gpd.GeoDataFrame(geometry=[coast_buffer], crs=\"EPSG:27700\")\n",
    "\n",
    "# Using spatial join \n",
    "strandings_within_5km = gpd.sjoin(\n",
    "    gdf_bng, \n",
    "    coast_buffer_gdf, \n",
    "    how=\"inner\", \n",
    "    predicate=\"within\")\n",
    "\n",
    "# Report to see how many strandings are being dropped\n",
    "original_count = len(gdf_bng)\n",
    "filtered_count = len(strandings_within_5km)\n",
    "print(f\"Strandings before filtering: {original_count}\")\n",
    "print(f\"Strandings within 5 km of coast: {filtered_count}\")\n",
    "print(f\"Strandings dropped: {original_count - filtered_count}\")\n",
    "\n"
   ]
  },
  {
   "cell_type": "markdown",
   "id": "4ba1a0ff-6dd7-4d8c-b683-886839135ae9",
   "metadata": {},
   "source": [
    "##### After some experimentation with different-sized buffers, 5km seems to be a good size for removing the worst outliers and only losing 649 points"
   ]
  },
  {
   "cell_type": "markdown",
   "id": "787bb3cb-e1c3-4d6a-a84f-22261ac8829c",
   "metadata": {},
   "source": [
    "---------------"
   ]
  },
  {
   "cell_type": "markdown",
   "id": "ee3e2fd0-5ccd-4ec0-85d7-6219d0f38d24",
   "metadata": {},
   "source": [
    "## Visualising the removal of the outliers"
   ]
  },
  {
   "cell_type": "code",
   "execution_count": null,
   "id": "d0f438a8-9b46-4777-b5a2-1e0889d8bafc",
   "metadata": {},
   "outputs": [],
   "source": [
    "# Use index difference to get dropped strandings\n",
    "dropped_strandings = gdf_bng.loc[~gdf_bng.index.isin(strandings_within_5km.index)]\n"
   ]
  },
  {
   "cell_type": "code",
   "execution_count": null,
   "id": "6b69bee0-4796-458c-aabe-b5fb020a5a13",
   "metadata": {},
   "outputs": [],
   "source": [
    "# Reprojecting all strandings (including dropped) and the buffer to WGS84 for mapping\n",
    "strandings_within_5km_wgs = strandings_within_5km.to_crs(epsg=4326)\n",
    "dropped_strandings_wgs = dropped_strandings.to_crs(epsg=4326)\n",
    "coast_buffer_wgs = gpd.GeoDataFrame(geometry=[coast_buffer], crs=\"EPSG:27700\").to_crs(epsg=4326)\n"
   ]
  },
  {
   "cell_type": "code",
   "execution_count": null,
   "id": "a50bc130-db4e-4b87-b7ff-267f2a19969f",
   "metadata": {},
   "outputs": [],
   "source": [
    "# creating the base map with scale bar\n",
    "m = folium.Map(location=[55, -3], zoom_start=5, control_scale=True)\n",
    "\n",
    "# Feature groups so that the LayerControl acts like a legend\n",
    "fg_within5 = folium.FeatureGroup(name=\"Strandings within 5 km\", show=True)\n",
    "fg_dropped = folium.FeatureGroup(name=\"Dropped strandings\", show=True)\n",
    "fg_buffer  = folium.FeatureGroup(name=\"5 km Coastal Buffer\", show=True)\n",
    "\n",
    "# Points: within 5 km buffer (green)\n",
    "for _, row in strandings_within_5km_wgs.iterrows():\n",
    "    folium.CircleMarker(\n",
    "        location=[row.geometry.y, row.geometry.x],\n",
    "        radius=2,\n",
    "        color=\"green\", weight=0.8,\n",
    "        fill=True, fill_color=\"green\", fill_opacity=0.6,\n",
    "        popup=folium.Popup(\n",
    "            f\"Within 5km<br>ID: {row.get('ID', 'N/A')}\",\n",
    "            max_width=260),\n",
    "    ).add_to(fg_within5)\n",
    "\n",
    "# Dropped points (red)\n",
    "for _, row in dropped_strandings_wgs.iterrows():\n",
    "    folium.CircleMarker(\n",
    "        location=[row.geometry.y, row.geometry.x],\n",
    "        radius=2,\n",
    "        color=\"red\", weight=0.8,\n",
    "        fill=True, fill_color=\"red\", fill_opacity=0.6,\n",
    "        popup=folium.Popup(\n",
    "            f\"Dropped<br>ID: {row.get('ID', 'N/A')}\",\n",
    "            max_width=260),\n",
    "    ).add_to(fg_dropped)\n",
    "\n",
    "# Buffer (blue)\n",
    "folium.GeoJson(\n",
    "    coast_buffer_wgs.geometry[0],\n",
    "    name=\"5 km Coastal Buffer\",\n",
    "    style_function=lambda feat: {\"color\": \"blue\", \"weight\": 2, \"fill\": False},\n",
    "    tooltip=\"5 km Coastal Buffer\",\n",
    ").add_to(fg_buffer)\n",
    "\n",
    "# Adding the groups to map\n",
    "fg_within5.add_to(m)\n",
    "fg_dropped.add_to(m)\n",
    "fg_buffer.add_to(m)\n",
    "\n",
    "# Title for aesthetics \n",
    "title_html = \"\"\"\n",
    "<div style=\"\n",
    " position: fixed; top: 10px; left: 50%; transform: translateX(-50%);\n",
    " z-index: 9999; background: white; padding: 6px 10px; border: 1px solid #777;\n",
    " border-radius: 6px; font-weight: 600; box-shadow: 0 1px 3px rgba(0,0,0,0.2);\">\n",
    "Strandings within 5 km of Coastline\n",
    "</div>\n",
    "\"\"\"\n",
    "m.get_root().html.add_child(folium.Element(title_html))\n",
    "\n",
    "# Legend\n",
    "legend_html = \"\"\"\n",
    "<div style=\"\n",
    " position: fixed; bottom: 60px; left: 30px; z-index:9999;\n",
    " background: white; padding: 10px; border: 1px solid #777; border-radius: 6px;\n",
    " box-shadow: 0 1px 3px rgba(0,0,0,.2); font-size: 14px;\">\n",
    "<b>Legend</b><br>\n",
    "<span style=\"display:inline-block;width:12px;height:12px;background:green;border:1px solid #555;border-radius:6px;margin-right:6px;\"></span>\n",
    "Strandings within 5 km<br>\n",
    "<span style=\"display:inline-block;width:12px;height:12px;background:red;border:1px solid #555;border-radius:6px;margin-right:6px;\"></span>\n",
    "Dropped strandings<br>\n",
    "<span style=\"display:inline-block;width:12px;height:12px;background:transparent;border:2px solid blue;margin-right:6px;\"></span>\n",
    "5 km Coastal Buffer\n",
    "</div>\n",
    "\"\"\"\n",
    "m.get_root().html.add_child(folium.Element(legend_html))\n",
    "\n",
    "# Clickable layer control\n",
    "folium.LayerControl(collapsed=False).add_to(m)\n",
    "\n",
    "# Displaying\n",
    "m  \n",
    "\n"
   ]
  },
  {
   "cell_type": "code",
   "execution_count": null,
   "id": "9fbb15d9-0571-4f1f-b740-d52980700c92",
   "metadata": {},
   "outputs": [],
   "source": [
    "# Downloading the image for use in the write-up\n",
    "m.save(\"Data_cleaning_images/Strandings_Cleaning_Dropped_Strandings_Buffer.html\")"
   ]
  },
  {
   "cell_type": "markdown",
   "id": "54f67bc7-e476-4dd6-8395-b64ad2e2a054",
   "metadata": {},
   "source": [
    "#### Link to dropped strandings map [Netlify map](https://dropped-strandings-buffer.netlify.app/) "
   ]
  },
  {
   "cell_type": "markdown",
   "id": "2c70a596-901f-42e4-ab61-07424afb1d47",
   "metadata": {},
   "source": [
    "-----------------------------"
   ]
  },
  {
   "cell_type": "markdown",
   "id": "931f4e6e-e090-4e5f-92fc-373d2fd9da56",
   "metadata": {},
   "source": [
    "## _Snapping strandings to the coast_"
   ]
  },
  {
   "cell_type": "code",
   "execution_count": null,
   "id": "3e95de9e-6acb-4d49-ad0c-b6387e40bbd3",
   "metadata": {},
   "outputs": [],
   "source": [
    "# Keeping a back up\n",
    "gdf_bng_all = gdf_bng.copy() \n",
    "# Outliers removed before snapping\n",
    "gdf_bng = strandings_within_5km.copy()\n"
   ]
  },
  {
   "cell_type": "code",
   "execution_count": null,
   "id": "1b443698-b089-47d7-9069-31684d5d019c",
   "metadata": {},
   "outputs": [],
   "source": [
    "# Defining the snapping function\n",
    "def snap_to_coast_project(pt):\n",
    "    distance_along = coastline_boundary.project(pt)\n",
    "    return coastline_boundary.interpolate(distance_along)\n",
    "    \n",
    "# Applying snapping to strandings within the 5km buffer\n",
    "gdf_bng[\"snapped_geom\"] = gdf_bng.geometry.apply(snap_to_coast_project)\n",
    "\n",
    "gdf_snapped_clean = gdf_bng[\n",
    "    (~gdf_bng[\"snapped_geom\"].is_empty) & (~gdf_bng[\"snapped_geom\"].isna())\n",
    "].copy()\n",
    "\n",
    "\n",
    "# Converting to WGS84\n",
    "gdf_snapped_wgs84 = gdf_snapped_clean.set_geometry(\"snapped_geom\").to_crs(\"EPSG:4326\")\n",
    "\n",
    "# Build DataFrame\n",
    "snapped_coords = pd.DataFrame({\n",
    "    \"snapped_latitude\": gdf_snapped_wgs84.geometry.y,\n",
    "    \"snapped_longitude\": gdf_snapped_wgs84.geometry.x,\n",
    "}).reset_index(drop=True)\n",
    "\n",
    "# Reseting original index\n",
    "gdf_bng_reset = gdf_snapped_clean.reset_index(drop=True)\n",
    "\n",
    "# Merging the snapped lat longs with the main dataframe\n",
    "strandings_with_snapped = pd.concat(\n",
    "    [gdf_bng_reset, snapped_coords], axis=1)\n",
    "\n",
    "# Plotting to check\n",
    "fig, ax = plt.subplots(1, 1, figsize=(7,7))\n",
    "#Boundary in grey\n",
    "gpd.GeoSeries([coastline_boundary], crs=\"EPSG:27700\").plot(ax=ax, color=\"grey\")\n",
    "\n",
    "# 5km buffer strandings in blue\n",
    "gdf_bng.plot(ax=ax, color=\"blue\", markersize=8, label=\"Original\")\n",
    "\n",
    "# Snapped points in red\n",
    "gpd.GeoSeries(gdf_bng[\"snapped_geom\"], crs=\"EPSG:27700\").plot(ax=ax, color=\"red\", markersize=8, label=\"Snapped\")\n",
    "#Labels\n",
    "ax.set_title(\"5km Buffer Strandings vs. Snapped Strandings (EPSG:27700)\")\n",
    "ax.set_axis_off()\n",
    "ax.legend()\n",
    "# Saving and displaying the map\n",
    "plt.savefig(\"Data_cleaning_images/Strandings_Cleaning_5kmBuffervsSnapped.png\", dpi=150, bbox_inches=\"tight\")\n",
    "plt.show()"
   ]
  },
  {
   "cell_type": "code",
   "execution_count": null,
   "id": "35678c20-10a3-49c7-a14b-776c553c6afd",
   "metadata": {},
   "outputs": [],
   "source": [
    "strandings_with_snapped.head()"
   ]
  },
  {
   "cell_type": "code",
   "execution_count": null,
   "id": "2a1a86ff-cd35-40f5-9084-deab43cd0a9d",
   "metadata": {},
   "outputs": [],
   "source": [
    "# Checking no records have been lost in the process\n",
    "strandings_with_snapped.info()"
   ]
  },
  {
   "cell_type": "markdown",
   "id": "035dbced-b916-47f7-b449-06e476c663a1",
   "metadata": {},
   "source": [
    "##### Strandings within 5 km of coast: 27064, so no records lost during snapping."
   ]
  },
  {
   "cell_type": "code",
   "execution_count": null,
   "id": "cdc947e7-a0d8-49e3-8be6-2914af67a4b9",
   "metadata": {},
   "outputs": [],
   "source": [
    "# Tidying put the dataframe\n",
    "merged_strandings_with_snapped = gpd.GeoDataFrame(\n",
    "    strandings_with_snapped.drop(columns=[\"Latitude\", \"Longitude\", \"geometry\", \"snapped_geom\"]),\n",
    "    geometry=gpd.points_from_xy(\n",
    "        strandings_with_snapped[\"snapped_longitude\"],\n",
    "        strandings_with_snapped[\"snapped_latitude\"]\n",
    "    ),\n",
    "    crs=\"EPSG:4326\"\n",
    ").reset_index(drop=True)\n",
    "\n",
    "\n",
    "# Saving so I can upload the saved file rather than snapping each time I re-run the code\n",
    "merged_strandings_with_snapped.to_file(\"../merged_strandings_with_snapped.gpkg\", driver=\"GPKG\")\n"
   ]
  },
  {
   "cell_type": "code",
   "execution_count": null,
   "id": "0d68ffc0-268e-4416-be0f-de9000e9f696",
   "metadata": {},
   "outputs": [],
   "source": [
    "merged_strandings_with_snapped.info()"
   ]
  },
  {
   "cell_type": "code",
   "execution_count": null,
   "id": "eedade2d-bcbc-41a7-aef8-6b7301811110",
   "metadata": {},
   "outputs": [],
   "source": [
    "merged_strandings_with_snapped.head()"
   ]
  },
  {
   "cell_type": "code",
   "execution_count": null,
   "id": "55086241-d606-432e-ac31-f9f7333463ce",
   "metadata": {},
   "outputs": [],
   "source": [
    "# Uploading the saved snapped file so I don't have to rerun the code each time\n",
    "strandings_with_snapped = gpd.read_file(\"../merged_strandings_with_snapped.gpkg\")\n",
    "#Checking all the data is there\n",
    "print(\"CRS:\", strandings_with_snapped.crs)\n",
    "strandings_with_snapped.info()"
   ]
  },
  {
   "cell_type": "code",
   "execution_count": null,
   "id": "3ab84c9a-6f7c-4ac9-9644-17d553d9ff43",
   "metadata": {},
   "outputs": [],
   "source": [
    "# creating the base map with scale bar\n",
    "m = folium.Map(location=[50.459, -4.662], zoom_start=8, control_scale=True)\n",
    "\n",
    "# Feature groups so that the LayerControl acts like a legend\n",
    "fg_original = folium.FeatureGroup(name=\"Original Strandings\", show=True)\n",
    "fg_within5  = folium.FeatureGroup(name=\"Strandings Within 5 km\", show=True)\n",
    "fg_snapped  = folium.FeatureGroup(name=\"Snapped Strandings\", show=True)\n",
    "\n",
    "# Original strandings (blue)\n",
    "for _, row in Strandings_gdf.iterrows():\n",
    "    folium.CircleMarker(\n",
    "        location=[row['Latitude'], row['Longitude']],\n",
    "        radius=2, color=\"blue\", weight=0.8,\n",
    "        fill=True, fill_color=\"blue\", fill_opacity=0.6,\n",
    "        popup=folium.Popup(\n",
    "            f\"Original<br>ID: {row.get('ID','N/A')}<br>\"\n",
    "            f\"Local Authority: {row.get('Local Authority','N/A')}<br>\"\n",
    "            f\"Species: {row.get('Species','N/A')}\",\n",
    "            max_width=260),\n",
    "    ).add_to(fg_original)\n",
    "\n",
    "# strandings within 5 km (green)\n",
    "for _, row in strandings_within_5km_wgs.iterrows():\n",
    "    folium.CircleMarker(\n",
    "        location=[row.geometry.y, row.geometry.x],\n",
    "        radius=2, color=\"green\", weight=0.8,\n",
    "        fill=True, fill_color=\"green\", fill_opacity=0.6,\n",
    "        popup=folium.Popup(\n",
    "            f\"Within 5 km<br>ID: {row.get('ID','N/A')}<br>\"\n",
    "            f\"Local Authority: {row.get('Local Authority','N/A')}<br>\"\n",
    "            f\"Species: {row.get('Species','N/A')}\",\n",
    "            max_width=260),\n",
    "    ).add_to(fg_within5)\n",
    "\n",
    "# Snapped strandings (red)\n",
    "for _, row in strandings_with_snapped.iterrows():\n",
    "    folium.CircleMarker(\n",
    "        location=[row['snapped_latitude'], row['snapped_longitude']],\n",
    "        radius=2, color=\"red\", weight=0.8,\n",
    "        fill=True, fill_color=\"red\", fill_opacity=0.6,\n",
    "        popup=folium.Popup(\n",
    "            f\"Snapped<br>ID: {row.get('ID','N/A')}<br>\"\n",
    "            f\"Local Authority: {row.get('Local Authority','N/A')}<br>\"\n",
    "            f\"Species: {row.get('Species','N/A')}\",\n",
    "            max_width=260),\n",
    "    ).add_to(fg_snapped)\n",
    "\n",
    "# Adding the groups to the map\n",
    "fg_original.add_to(m)\n",
    "fg_within5.add_to(m)\n",
    "fg_snapped.add_to(m)\n",
    "\n",
    "# Title \n",
    "title_html = \"\"\"\n",
    "<div style=\"\n",
    " position: fixed; top: 10px; left: 50%; transform: translateX(-50%);\n",
    " z-index: 9999; background: white; padding: 6px 10px; border: 1px solid #777;\n",
    " border-radius: 6px; font-weight: 600; box-shadow: 0 1px 3px rgba(0,0,0,0.2);\">\n",
    "South West UK — Original, Within 5 km & Snapped Strandings\n",
    "</div>\n",
    "\"\"\"\n",
    "m.get_root().html.add_child(folium.Element(title_html))\n",
    "\n",
    "#Legend\n",
    "legend_html = \"\"\"\n",
    "<div style=\"\n",
    " position: fixed; bottom: 60px; left: 30px; z-index:9999;\n",
    " background: white; padding: 10px; border: 1px solid #777; border-radius: 6px;\n",
    " box-shadow: 0 1px 3px rgba(0,0,0,.2); font-size: 14px;\">\n",
    "<b>Legend</b><br>\n",
    "<span style=\"display:inline-block;width:12px;height:12px;background:blue;border:1px solid #555;border-radius:6px;margin-right:6px;\"></span>\n",
    "Original Strandings<br>\n",
    "<span style=\"display:inline-block;width:12px;height:12px;background:green;border:1px solid #555;border-radius:6px;margin-right:6px;\"></span>\n",
    "Strandings Within 5 km<br>\n",
    "<span style=\"display:inline-block;width:12px;height:12px;background:red;border:1px solid #555;border-radius:6px;margin-right:6px;\"></span>\n",
    "Snapped Strandings\n",
    "</div>\n",
    "\"\"\"\n",
    "m.get_root().html.add_child(folium.Element(legend_html))\n",
    "\n",
    "# Layer control\n",
    "folium.LayerControl(collapsed=False).add_to(m)\n",
    "\n",
    "# Display or save\n",
    "m\n"
   ]
  },
  {
   "cell_type": "code",
   "execution_count": null,
   "id": "1e744234-c067-49fb-842e-744896e7cf13",
   "metadata": {},
   "outputs": [],
   "source": [
    "#Saving the map\n",
    "m.save(\"Data_cleaning_images/Strandings_Cleaning_SW_Snapped_vs_Original_Map.html\")"
   ]
  },
  {
   "cell_type": "markdown",
   "id": "5cb7e72a-d345-4b07-8938-a71a7e81ad1e",
   "metadata": {},
   "source": [
    "#### Link to SW strandings vs snapped strandings [Netlify map](https://sw-cleaning-stages.netlify.app/) "
   ]
  },
  {
   "cell_type": "markdown",
   "id": "f05149c3-fcdb-4c77-b3ae-d5c4da2d9fed",
   "metadata": {},
   "source": [
    "#### Checking the map it is possible to see the remaining strandings snapped effectivly to the coastline by comparing the pop ups"
   ]
  },
  {
   "cell_type": "markdown",
   "id": "f8b498dc-cd2c-409e-b1dd-987281361721",
   "metadata": {},
   "source": [
    "--------------------------------------------------------------------------------------"
   ]
  },
  {
   "cell_type": "markdown",
   "id": "09773cc2-7698-4fe0-a272-cc5ea164aad7",
   "metadata": {},
   "source": [
    "## Removing mass strandings"
   ]
  },
  {
   "cell_type": "markdown",
   "id": "bd04487b-5672-431f-a3b3-1525533109b2",
   "metadata": {},
   "source": [
    "#### Removing mass strandings and leaving them as a single point"
   ]
  },
  {
   "cell_type": "code",
   "execution_count": null,
   "id": "fe42b93b-0c18-4184-8291-d02cc5aec6b9",
   "metadata": {},
   "outputs": [],
   "source": [
    "# Assessing the number of mass vs single strandings events\n",
    "strandings_with_snapped['M/s'].value_counts()\n"
   ]
  },
  {
   "cell_type": "code",
   "execution_count": null,
   "id": "0964f94e-1a18-4918-b0cb-40e34a2c8244",
   "metadata": {},
   "outputs": [],
   "source": [
    "# Filter only mass strandings\n",
    "mass_strandings = strandings_with_snapped[strandings_with_snapped['M/s'].str.upper() == 'M']\n",
    "\n",
    "# Group by date, species, and local authority, then count\n",
    "mass_counts = (\n",
    "    mass_strandings\n",
    "    .groupby(['Date', 'Species', 'Local Authority'])\n",
    "    .size()\n",
    "    .reset_index(name='Count')\n",
    "    .sort_values('Count', ascending=False))\n",
    "\n",
    "mass_counts.head(10) # preview top 10"
   ]
  },
  {
   "cell_type": "code",
   "execution_count": null,
   "id": "a8eb3317-43a6-4594-ad44-4fe851fa1607",
   "metadata": {},
   "outputs": [],
   "source": [
    "# Grouping by 'M/s'\n",
    "ms_counts = strandings_with_snapped['M/s'].value_counts()\n",
    "\n",
    "# Creating the bar chart and store the axes\n",
    "plt.figure(figsize=(10, 6))\n",
    "ax = ms_counts.plot(kind='bar', color='C0')\n",
    "# Labels\n",
    "plt.xlabel('Mass Stranding and Single stranding events (M/s)')\n",
    "plt.ylabel('Total Occurrences')\n",
    "plt.title('Total Occurrences per Mass Stranding and Single stranding events in UK and Ireland')\n",
    "plt.xticks(rotation=0)\n",
    "\n",
    "# Adding the number labels on top of each bar\n",
    "for bar in ax.patches:\n",
    "    height = bar.get_height()\n",
    "    ax.text(\n",
    "        bar.get_x() + bar.get_width() / 2,\n",
    "        height + 1,  # Slightly above the bar\n",
    "        str(int(height)),\n",
    "        ha='center', va='bottom', fontsize=10)\n",
    "\n",
    "plt.tight_layout()\n",
    "plt.savefig(\"Data_cleaning_images/Strandings_Cleaning_Mass_original_numbers.png\", dpi=150, bbox_inches=\"tight\")\n",
    "plt.show()\n"
   ]
  },
  {
   "cell_type": "code",
   "execution_count": null,
   "id": "9559d3f0-f275-43c2-a070-de8666991236",
   "metadata": {},
   "outputs": [],
   "source": [
    "# Filtering out the mass strandings\n",
    "mass_strandings = strandings_with_snapped[strandings_with_snapped['M/s'] == 'M']\n",
    "# Grouping by lat/lon\n",
    "grouped = mass_strandings.groupby(['snapped_latitude', 'snapped_longitude'])\n",
    "\n",
    "# Base map plus scale\n",
    "m = folium.Map(location=[55.61, -2.85], zoom_start=5, control_scale=True)\n",
    "\n",
    "# FeatureGroup for layercontrol\n",
    "fg_mass = folium.FeatureGroup(name=\"Mass strandings (grouped by location)\", show=True)\n",
    "\n",
    "# Adding a marker per location, with ID, confirmation its a mass stranding, species and LA for all the entries in the pop-up\n",
    "for (lat, lon), group in grouped:\n",
    "    popup_entries = []\n",
    "    for _, row in group.iterrows():\n",
    "        popup_entries.append(\n",
    "            f\"<b>ID:</b> {row.get('ID','N/A')}<br>\"\n",
    "            f\"<b>M/s:</b> {row.get('M/s','N/A')}<br>\"\n",
    "            f\"<b>Species:</b> {row.get('Species','N/A')}<br>\"\n",
    "            f\"<b>Local Authority:</b> {row.get('Local Authority','N/A')}<br><br>\")\n",
    "    popup_text = ''.join(popup_entries)\n",
    "\n",
    "    folium.CircleMarker(\n",
    "        location=[lat, lon],\n",
    "        radius=2,\n",
    "        color='purple', weight=0.8,\n",
    "        fill=True, fill_color='purple', fill_opacity=0.7,\n",
    "        popup=folium.Popup(popup_text, max_width=320, min_width=160),\n",
    "    ).add_to(fg_mass)\n",
    "\n",
    "fg_mass.add_to(m)\n",
    "\n",
    "# Title\n",
    "title_html = \"\"\"\n",
    "<div style=\"\n",
    " position: fixed; top: 10px; left: 50%; transform: translateX(-50%);\n",
    " z-index: 9999; background: white; padding: 6px 10px; border: 1px solid #777;\n",
    " border-radius: 6px; font-weight: 600; box-shadow: 0 1px 3px rgba(0,0,0,0.2);\">\n",
    " Mass Strandings (grouped by snapped coordinates)\n",
    "</div>\n",
    "\"\"\"\n",
    "m.get_root().html.add_child(folium.Element(title_html))\n",
    "\n",
    "#Legend \n",
    "legend_html = \"\"\"\n",
    "<div style=\"\n",
    " position: fixed; bottom: 60px; left: 30px; z-index:9999;\n",
    " background: white; padding: 10px; border: 1px solid #777; border-radius: 6px;\n",
    " box-shadow: 0 1px 3px rgba(0,0,0,.2); font-size: 14px;\">\n",
    "<b>Legend</b><br>\n",
    "<span style=\"display:inline-block;width:12px;height:12px;background:purple;\n",
    "       border:1px solid #555;border-radius:6px;margin-right:6px;\"></span>\n",
    "Mass stranding location<br>\n",
    "<small>Each marker may represent multiple records at the same lat/lon; see popup.</small>\n",
    "</div>\n",
    "\"\"\"\n",
    "m.get_root().html.add_child(folium.Element(legend_html))\n",
    "\n",
    "# Layer control \n",
    "folium.LayerControl(collapsed=False).add_to(m)\n",
    "\n",
    "# Displayin gthe map\n",
    "m\n",
    "\n"
   ]
  },
  {
   "cell_type": "code",
   "execution_count": null,
   "id": "9777f7bc-dec1-4664-86eb-df9254166540",
   "metadata": {},
   "outputs": [],
   "source": [
    "m.save(\"Data_cleaning_images/Strandings_Cleaning_UK_Ireland_Single_Multiple_Mass_Map.html\")"
   ]
  },
  {
   "cell_type": "markdown",
   "id": "761cef21-cdb1-4a63-ae01-455d1094319d",
   "metadata": {},
   "source": [
    "#### Link to multiple strandings [Netlify map](https://mass-strandings-multiple.netlify.app/)"
   ]
  },
  {
   "attachments": {},
   "cell_type": "markdown",
   "id": "99f8dc12-d931-41f5-bf3f-106f7b4dcf5a",
   "metadata": {},
   "source": [
    "#### Examining the map shows a few single records that are logged as mass, they  seem to have the same species strandings nearby on the same day, and sequential ID numbers."
   ]
  },
  {
   "cell_type": "code",
   "execution_count": null,
   "id": "69e74619-dcbd-464d-9e2b-ae8a8c85e385",
   "metadata": {},
   "outputs": [],
   "source": [
    "# Removing mass strandings\n",
    "\n",
    "# Identifing which records are mass strandings\n",
    "mass_mask = strandings_with_snapped['M/s'] == 'M'\n",
    "\n",
    "# Listing the columns that identify a unique stranding (not including the index)\n",
    "cols_to_check = [\n",
    "    'Species','Date']\n",
    "\n",
    "# Counting the number of mass strandings before deduplication\n",
    "initial_mass_count = mass_mask.sum()\n",
    "\n",
    "# Removing duplicates from the mass strandings\n",
    "unique_mass_strandings = strandings_with_snapped[mass_mask].drop_duplicates(subset=cols_to_check)\n",
    "unique_mass_count = len(unique_mass_strandings)\n",
    "\n",
    "# Calculating the number of records removed\n",
    "removed_mass_count = initial_mass_count - unique_mass_count\n",
    "\n",
    "# Combining single strandings with deduplicated mass strandings\n",
    "strandings_with_snapped = pd.concat([\n",
    "    strandings_with_snapped[~mass_mask],\n",
    "    unique_mass_strandings])\n",
    "\n",
    "# Reseting the index\n",
    "strandings_with_snapped = strandings_with_snapped.sort_index().reset_index(drop=True)\n",
    "\n",
    "# Printing out a breakdown to assess if the correct number were removed\n",
    "print(f\"Initial mass strandings: {initial_mass_count}\")\n",
    "print(f\"Removed duplicate mass strandings: {removed_mass_count}\")\n",
    "print(f\"Remaining unique mass strandings: {unique_mass_count}\")\n"
   ]
  },
  {
   "cell_type": "code",
   "execution_count": null,
   "id": "a9018921-f5fc-4fe0-a4b7-c573d3ed0781",
   "metadata": {},
   "outputs": [],
   "source": [
    "#Running the same bar graph, shows a single stranding for each pop-up\n",
    "\n",
    "# Grouping by 'M/s'\n",
    "ms_counts = strandings_with_snapped['M/s'].value_counts()\n",
    "\n",
    "# Creating the bar chart and store the axes\n",
    "plt.figure(figsize=(10, 6))\n",
    "ax = ms_counts.plot(kind='bar', color='C0')\n",
    "# Labels\n",
    "plt.xlabel('Mass Stranding and Single stranding events (M/s)')\n",
    "plt.ylabel('Total Occurrences')\n",
    "plt.title('Total Occurrences per Mass Stranding and Single stranding events in UK and Ireland')\n",
    "plt.xticks(rotation=0)\n",
    "\n",
    "# Adding the number labels on top of each bar\n",
    "for bar in ax.patches:\n",
    "    height = bar.get_height()\n",
    "    ax.text(\n",
    "        bar.get_x() + bar.get_width() / 2,\n",
    "        height + 1,  # Slightly above the bar\n",
    "        str(int(height)),\n",
    "        ha='center', va='bottom', fontsize=10)\n",
    "\n",
    "plt.tight_layout()\n",
    "plt.savefig(\"Data_cleaning_images/Strandings_Cleaning_Mass_unique_Numbers.png\", dpi=150, bbox_inches=\"tight\")\n",
    "plt.show()"
   ]
  },
  {
   "cell_type": "code",
   "execution_count": null,
   "id": "371828f4-2d22-4954-b2fd-bba1e2cf4329",
   "metadata": {},
   "outputs": [],
   "source": [
    "# Checking for any missing data hicups \n",
    "strandings_with_snapped.info()"
   ]
  },
  {
   "cell_type": "code",
   "execution_count": null,
   "id": "19caf561-bff7-448a-9211-0fcd09bf56e3",
   "metadata": {},
   "outputs": [],
   "source": [
    "#Running the same map, shows a single stranding for each pop-up\n",
    "\n",
    "# Filtering out the mass strandings\n",
    "mass_strandings = strandings_with_snapped[strandings_with_snapped['M/s'] == 'M']\n",
    "\n",
    "# Grouping by lat/lon\n",
    "grouped = mass_strandings.groupby(['snapped_latitude', 'snapped_longitude'])\n",
    "\n",
    "#Creating the map\n",
    "m = folium.Map(location=[55.61, -2.85], zoom_start=5)\n",
    "\n",
    "# Adding a marker per location, with ID, confirmation its a mass stranding, species and LA for all the entries in the pop-up\n",
    "for (lat, lon), group in grouped:\n",
    "    popup_entries = []\n",
    "    for _, row in group.iterrows():\n",
    "        entry = (\n",
    "            f\"<b>ID:</b> {row['ID']}<br>\"\n",
    "            f\"<b>M/s:</b> {row['M/s']}<br>\"\n",
    "            f\"<b>Species:</b> {row['Species']}<br>\"\n",
    "            f\"<b>Local Authority:</b> {row['Local Authority']}<br><br>\")\n",
    "        popup_entries.append(entry)\n",
    "    \n",
    "    popup_text = ''.join(popup_entries)\n",
    "    \n",
    "    folium.CircleMarker(\n",
    "        location=[lat, lon],\n",
    "        radius=2,\n",
    "        color='purple',\n",
    "        fill=True,\n",
    "        fill_color='purple',\n",
    "        fill_opacity=0.7,\n",
    "        popup=folium.Popup(popup_text, max_width=300, min_width=150)\n",
    "    ).add_to(m)\n",
    "\n",
    "# Title\n",
    "title_html = \"\"\"\n",
    "<div style=\"\n",
    " position: fixed; top: 10px; left: 50%; transform: translateX(-50%);\n",
    " z-index: 9999; background: white; padding: 6px 10px; border: 1px solid #777;\n",
    " border-radius: 6px; font-weight: 600; box-shadow: 0 1px 3px rgba(0,0,0,0.2);\">\n",
    "Unique Mass Strandings\n",
    "</div>\n",
    "\"\"\"\n",
    "m.get_root().html.add_child(folium.Element(title_html))\n",
    "\n",
    "#Legend \n",
    "legend_html = \"\"\"\n",
    "<div style=\"\n",
    " position: fixed; bottom: 60px; left: 30px; z-index:9999;\n",
    " background: white; padding: 10px; border: 1px solid #777; border-radius: 6px;\n",
    " box-shadow: 0 1px 3px rgba(0,0,0,.2); font-size: 14px;\">\n",
    "<b>Legend</b><br>\n",
    "<span style=\"display:inline-block;width:12px;height:12px;background:purple;\n",
    "       border:1px solid #555;border-radius:6px;margin-right:6px;\"></span>\n",
    "Mass stranding location<br>\n",
    "<small>Each marker may represent multiple records at the same lat/lon; see popup.</small>\n",
    "</div>\n",
    "\"\"\"\n",
    "m.get_root().html.add_child(folium.Element(legend_html))\n",
    "\n",
    "# Displaying the map\n",
    "m\n"
   ]
  },
  {
   "cell_type": "code",
   "execution_count": null,
   "id": "cb2b11d4-225d-4c9b-a100-1d17c6750151",
   "metadata": {},
   "outputs": [],
   "source": [
    "m.save(\"Data_cleaning_images/Strandings_Cleaning_UK_Ireland_Single_Multiple_Unique_Map.html\")"
   ]
  },
  {
   "cell_type": "markdown",
   "id": "92a1980b-6850-470b-ba0e-8191c67f3c1f",
   "metadata": {},
   "source": [
    "#### Link to multiple strandings [Netlify map](https://mass-strandings-multiple.netlify.app/) !!!NEEDS UPDATING!!!"
   ]
  },
  {
   "cell_type": "markdown",
   "id": "8d817f7b-8602-49b9-94fe-967b97d10e12",
   "metadata": {},
   "source": [
    "--------------------------------"
   ]
  },
  {
   "cell_type": "markdown",
   "id": "9d290a6b-52ff-47b4-b68a-ec112f035818",
   "metadata": {},
   "source": [
    "# Strandings Explorative Data Analysis\n",
    "\n",
    "#### Cleaning the dataframe"
   ]
  },
  {
   "cell_type": "markdown",
   "id": "f3593e23-dcb4-45c2-8e85-7f6eb33de6dd",
   "metadata": {},
   "source": [
    "#### Cleaning species name"
   ]
  },
  {
   "cell_type": "code",
   "execution_count": null,
   "id": "13f1a2bf-8ab1-4ddf-a41d-d40eb9d6f88c",
   "metadata": {},
   "outputs": [],
   "source": [
    "# Looking at the list of unique speices names\n",
    "unique_species = strandings_with_snapped['Species'].unique()\n",
    "print(unique_species)"
   ]
  },
  {
   "cell_type": "markdown",
   "id": "89039abe-b1fd-43d3-a27d-cd944ceb90f2",
   "metadata": {},
   "source": [
    "#### There are a lot of duplication of species that needs cleaning up"
   ]
  },
  {
   "cell_type": "code",
   "execution_count": null,
   "id": "ff34d1ae-fecc-4b60-88de-064c1daa8bde",
   "metadata": {},
   "outputs": [],
   "source": [
    "species_mapping = {\n",
    "    # Unidentified whale\n",
    "    'large whale species': 'Unidentified whale',\n",
    "    'medium whale species': 'Unidentified whale',\n",
    "    'beaked whale species': 'Unidentified whale',\n",
    "    'sei fin or blue whale': 'Unidentified whale',\n",
    "    'whale species': 'Unidentified whale',\n",
    "    'Unknown odontocete': 'Unidentified whale',\n",
    "    'Unknown balaenopterid': 'Unidentified whale',\n",
    "    'pilot/false killer whale': 'Unidentified whale',\n",
    "    'Unknown mysticete': 'Unidentified whale',\n",
    "    'Unknown ziphiid': 'Unidentified whale',\n",
    "    'Odontocete (indeterminate species)': 'Unidentified whale',\n",
    "    'Baleen whale (indeterminate species)': 'Unidentified whale',\n",
    "    'Mysticete (indeterminate species)': 'Unidentified whale',\n",
    "    'Beaked whale (indeterminate species)': 'Unidentified whale',\n",
    "\n",
    "    # Unidentified dolphin\n",
    "    'common or striped dolphin': 'Unidentified dolphin',\n",
    "    'dolphin species': 'Unidentified dolphin',\n",
    "    'dolphin species possibly harbour porpoise': 'Unidentified dolphin',\n",
    "    'lagenorhynchus species': 'Unidentified dolphin',\n",
    "    'Unknown delphinid': 'Unidentified dolphin',\n",
    "    'Short-beaked common dolphin/striped dolphin (indeterminate species)': 'Unidentified dolphin',\n",
    "    'Dolphin (indeterminate species)': 'Unidentified dolphin',\n",
    "    'Lagenorhynchus sp. (indeterminate species)': 'Unidentified dolphin',\n",
    "\n",
    "    # Unidentified species\n",
    "    'cetacean species': 'Unidentified species',\n",
    "    'NA': 'Unidentified species',\n",
    "    'Cetacean (indeterminate species)': 'Unidentified species',\n",
    "\n",
    "    # Pilot Whale\n",
    "    'pilot whale': 'Pilot Whale',\n",
    "    'Long-finned pilot whale': 'Pilot Whale',\n",
    "    'Short-finned pilot whale': 'Pilot Whale',\n",
    "\n",
    "    # Common Dolphin\n",
    "    'common dolphin': 'Common Dolphin',\n",
    "    'Common dolphin': 'Common Dolphin',\n",
    "    'Short-beaked common dolphin': 'Common Dolphin',\n",
    "\n",
    "    # Harbour Porpoise\n",
    "    'harbour porpoise': 'Harbour Porpoise',\n",
    "    'Harbour porpoise': 'Harbour Porpoise',\n",
    "\n",
    "    # Striped Dolphin\n",
    "    'striped dolphin': 'Striped Dolphin',\n",
    "    'Striped dolphin': 'Striped Dolphin',\n",
    "\n",
    "    # Minke Whale\n",
    "    'minke whale': 'Minke Whale',\n",
    "    'Minke whale': 'Minke Whale',\n",
    "\n",
    "    # Bottlenose Dolphin\n",
    "    'bottlenose dolphin': 'Bottlenose Dolphin',\n",
    "    'Bottlenose dolphin': 'Bottlenose Dolphin',\n",
    "    'Bottlenose whale': 'Bottlenose Dolphin',\n",
    "\n",
    "    # Risso’s Dolphin\n",
    "    \"Risso's dolphin\": \"Risso’s Dolphin\",\n",
    "\n",
    "    # Humpback Whale\n",
    "    'humpback whale': 'Humpback Whale',\n",
    "    'Humpback whale': 'Humpback Whale',\n",
    "\n",
    "    # True’s Beaked Whale\n",
    "    \"True's beaked whale\": \"True’s Beaked Whale\",\n",
    "    \"True's Beaked whale\": \"True’s Beaked Whale\",\n",
    "\n",
    "    # Sperm Whale\n",
    "    'sperm whale': 'Sperm Whale',\n",
    "    'Sperm whale': 'Sperm Whale',\n",
    "\n",
    "    # Cuvier’s Beaked Whale\n",
    "    \"Cuvier's beaked whale\": \"Cuvier’s Beaked Whale\",\n",
    "    \"Cuvier's Beaked whale\": \"Cuvier’s Beaked Whale\",\n",
    "\n",
    "    # Fin Whale\n",
    "    'fin whale': 'Fin Whale',\n",
    "    'Fin whale': 'Fin Whale',\n",
    "\n",
    "    # Northern Bottlenose Whale\n",
    "    'northern bottlenose whale': 'Northern Bottlenose Whale',\n",
    "    'Northern bottlenose whale': 'Northern Bottlenose Whale',\n",
    "\n",
    "    # White-Beaked Whale\n",
    "    'white-beaked dolphin': 'White-Beaked Whale',\n",
    "    'White-sided dolphin': 'White-Beaked Whale',\n",
    "    'White-beaked dolphin': 'White-Beaked Whale',\n",
    "\n",
    "    # Sowerby’s Beaked Whale\n",
    "    \"Sowerby's beaked whale\": \"Sowerby’s Beaked Whale\",\n",
    "    \"Sowerby's Beaked whale\": \"Sowerby’s Beaked Whale\",\n",
    "\n",
    "    # Sei Whale\n",
    "    'sei whale': 'Sei Whale',\n",
    "    'Sei whale': 'Sei Whale',\n",
    "\n",
    "    # Pygmy Sperm Whale\n",
    "    'pygmy sperm whale': 'Pygmy Sperm Whale',\n",
    "    'Pygmy Sperm whale': 'Pygmy Sperm Whale',\n",
    "    'Pygmy sperm whale': 'Pygmy Sperm Whale',\n",
    "\n",
    "    # Atlantic White-Sided Dolphin\n",
    "    'Atlantic white-sided dolphin': 'Atlantic White-Sided Dolphin',\n",
    "\n",
    "    # Killer Whale\n",
    "    'killer whale': 'Killer Whale',\n",
    "    'Killer whale': 'Killer Whale',\n",
    "\n",
    "    # Gervais Beaked Whale\n",
    "    'Gervais beaked whale': 'Gervais Beaked Whale',\n",
    "    \"Gervais' Beaked whale\": 'Gervais Beaked Whale',\n",
    "\n",
    "    # False Killer Whale\n",
    "    'false killer whale': 'False Killer Whale',\n",
    "    'False killer whale': 'False Killer Whale',\n",
    "\n",
    "    # Narwal\n",
    "    'Narwal': 'Narwal',\n",
    "\n",
    "    # Blue Whale\n",
    "    'Blue whale': 'Blue Whale',\n",
    "\n",
    "    # Beluga Whale\n",
    "    'Beluga whale': 'Beluga Whale',\n",
    "\n",
    "    # Melon-Headed Whale\n",
    "    'Melon-headed whale': 'Melon-Headed Whale',\n",
    "\n",
    "    # Blainville’s Beaked Whale\n",
    "    \"Blainville's beaked whale\": \"Blainville’s Beaked Whale\",\n",
    "\n",
    "    # Frasers Dolphin\n",
    "    \"Fraser's dolphin\": \"Frasers Dolphin\",\n",
    "\n",
    "    # Dwarf Sperm Whale\n",
    "    'Dwarf sperm whale': 'Dwarf Sperm Whale'}\n"
   ]
  },
  {
   "cell_type": "code",
   "execution_count": null,
   "id": "31c1edcf-e172-4f77-ac98-3c850eda4594",
   "metadata": {},
   "outputs": [],
   "source": [
    "# Replacing species with the cleaned names\n",
    "strandings_with_snapped['Species_cleaned'] = strandings_with_snapped['Species'].replace(species_mapping)"
   ]
  },
  {
   "cell_type": "code",
   "execution_count": null,
   "id": "b63a9833-204e-452f-a64b-10a92dd3accd",
   "metadata": {},
   "outputs": [],
   "source": [
    "#Checking all the species were mapped correctly\n",
    "remaining_species = strandings_with_snapped.loc[\n",
    "    strandings_with_snapped['Species_cleaned'].isna(), 'Species'\n",
    "].unique()\n",
    "\n",
    "print(\"Unmapped species:\", remaining_species)"
   ]
  },
  {
   "cell_type": "code",
   "execution_count": null,
   "id": "415d62ec-7dd1-4268-a681-03d384b97731",
   "metadata": {},
   "outputs": [],
   "source": [
    "# Dropping the old 'Species' column\n",
    "strandings_with_snapped = strandings_with_snapped.drop('Species', axis=1)\n",
    "\n",
    "# Renaming 'Species_cleaned' to 'Species'\n",
    "strandings_with_snapped = strandings_with_snapped.rename(columns={'Species_cleaned': 'Species'})"
   ]
  },
  {
   "cell_type": "code",
   "execution_count": null,
   "id": "422ab7ab-597c-4f6f-9e9d-d01232568585",
   "metadata": {},
   "outputs": [],
   "source": [
    "# Checking my unique species after renaming\n",
    "unique_species = strandings_with_snapped['Species'].unique()\n",
    "print(unique_species)"
   ]
  },
  {
   "cell_type": "markdown",
   "id": "755c990d-9874-432b-adc4-de7f1408a929",
   "metadata": {},
   "source": [
    "#### Seperating the date column and removing the time"
   ]
  },
  {
   "cell_type": "code",
   "execution_count": null,
   "id": "aa28234f-ce3d-45fe-9b96-e1f6b294e91c",
   "metadata": {},
   "outputs": [],
   "source": [
    "strandings_with_snapped.head()"
   ]
  },
  {
   "cell_type": "code",
   "execution_count": null,
   "id": "ba28e244-fe07-466a-9efd-9ffc12896010",
   "metadata": {},
   "outputs": [],
   "source": [
    "# Make sure Date is a string\n",
    "strandings_with_snapped[\"Date\"] = strandings_with_snapped[\"Date\"].astype(str)\n",
    "\n",
    "# Remove \" 0:00\" and \" 00:00\" time from them\n",
    "strandings_with_snapped[\"Date\"] = strandings_with_snapped[\"Date\"].str.replace(r\"\\s0*:0*0$\", \"\", regex=True)"
   ]
  },
  {
   "cell_type": "code",
   "execution_count": null,
   "id": "6f4f4e95-443d-4a48-a3b6-1b8072cceed9",
   "metadata": {},
   "outputs": [],
   "source": [
    "# Converting to datetime\n",
    "strandings_with_snapped['Date_parsed'] = pd.to_datetime(strandings_with_snapped['Date'], format='%d/%m/%Y', errors='coerce')\n",
    "\n",
    "# Extracting day/month/year as integers\n",
    "strandings_with_snapped['Year'] = strandings_with_snapped['Date_parsed'].dt.year.astype('Int64')\n",
    "strandings_with_snapped['Month'] = strandings_with_snapped['Date_parsed'].dt.month.astype('Int64')\n",
    "strandings_with_snapped['Day'] = strandings_with_snapped['Date_parsed'].dt.day.astype('Int64')\n"
   ]
  },
  {
   "cell_type": "code",
   "execution_count": null,
   "id": "7015e4c0-76f5-4229-866b-458591a91f00",
   "metadata": {},
   "outputs": [],
   "source": [
    "#Checking nulls\n",
    "strandings_with_snapped.info()"
   ]
  },
  {
   "cell_type": "markdown",
   "id": "23bb1196-ddde-4043-b190-92f0e6202cab",
   "metadata": {},
   "source": [
    "#### Why did I lose some records"
   ]
  },
  {
   "cell_type": "code",
   "execution_count": null,
   "id": "f5a88fd7-6101-452d-8c5a-3e07f72a0316",
   "metadata": {},
   "outputs": [],
   "source": [
    "#Looking at the Date column for those that didn't get seperated\n",
    "bad = strandings_with_snapped[strandings_with_snapped['Date_parsed'].isna()]['Date']\n",
    "bad.sample(20, random_state=0)\n",
    "bad.value_counts().head(20) \n"
   ]
  },
  {
   "cell_type": "markdown",
   "id": "d63e1a81-4737-45b9-8098-39d104e2876b",
   "metadata": {},
   "source": [
    "#### This shouldn't affect anything going forward as I am only using date for basic EDA and not in the analysis, so I'm going to leave them in favour of keeping the lat long data."
   ]
  },
  {
   "cell_type": "code",
   "execution_count": null,
   "id": "c9a1788d-f26e-452d-b3cb-1e8e033c7781",
   "metadata": {},
   "outputs": [],
   "source": [
    "#Checking split dates match the original dates\n",
    "strandings_with_snapped.sample(5)"
   ]
  },
  {
   "cell_type": "code",
   "execution_count": null,
   "id": "fc855b3c-78a0-42fe-b315-c2b5875c390b",
   "metadata": {},
   "outputs": [],
   "source": [
    "# Remaming snapped_latitude and\tsnapped_longitude, to latitude and longitude\n",
    "strandings_with_snapped = strandings_with_snapped.rename(\n",
    "    columns={\n",
    "        'snapped_latitude': 'latitude',\n",
    "        'snapped_longitude': 'longitude'})"
   ]
  },
  {
   "cell_type": "markdown",
   "id": "71f5dd65-96a6-49fa-9d1f-bda30262e5d0",
   "metadata": {},
   "source": [
    "------------------------------"
   ]
  },
  {
   "cell_type": "markdown",
   "id": "5ea4cee0-d84a-4ae3-9a7b-5e7d036f40ff",
   "metadata": {},
   "source": [
    "## Broken down by year"
   ]
  },
  {
   "cell_type": "code",
   "execution_count": null,
   "id": "b9be60fc-6959-4185-b1e7-7ad7e2edc2e8",
   "metadata": {},
   "outputs": [],
   "source": [
    "# Grouping by year and count the occurrences\n",
    "yearly_counts = strandings_with_snapped['Year'].value_counts().sort_index()\n",
    "\n",
    "# Create the bar chart\n",
    "plt.figure(figsize=(12, 6))\n",
    "plt.bar(yearly_counts.index, yearly_counts.values)\n",
    "plt.xlabel('Year')\n",
    "plt.ylabel('Total Occurrences')\n",
    "plt.title('Total Occurrences Each Year in UK and Ireland')\n",
    "plt.xticks(rotation=90)\n",
    "plt.tight_layout()\n",
    "plt.savefig(\"Data_cleaning_images/Strandings_Cleaning_Yearly_Strandings.png\", dpi=150, bbox_inches=\"tight\")\n",
    "plt.show()"
   ]
  },
  {
   "cell_type": "markdown",
   "id": "ef830f91-54f6-49c6-9aac-7501c95017dc",
   "metadata": {},
   "source": [
    "------------------------------"
   ]
  },
  {
   "cell_type": "markdown",
   "id": "2b1f2186-a7e8-4707-a85c-1d844d078719",
   "metadata": {},
   "source": [
    "## Broken down by month"
   ]
  },
  {
   "cell_type": "code",
   "execution_count": null,
   "id": "5d7c2a0b-0464-41dc-bf1a-b41a040a3879",
   "metadata": {},
   "outputs": [],
   "source": [
    "# Grouping by month\n",
    "monthly_counts = strandings_with_snapped['Month'].value_counts().sort_index()\n",
    "\n",
    "# Creating the bar chart, labels and changing the numbered months to words\n",
    "plt.figure(figsize=(12, 6))\n",
    "bars = plt.bar(\n",
    "    monthly_counts.index,\n",
    "    monthly_counts.values,\n",
    "    color='C0',          # <- same blue as the other chart (#1f77b4)\n",
    "    width=0.8)\n",
    "plt.xlabel('Month')\n",
    "plt.ylabel('Total Occurrences')\n",
    "plt.title('Total Occurrences Each Month in UK and Ireland')\n",
    "plt.xticks(range(1, 13), labels=[\n",
    "    'Jan', 'Feb', 'Mar', 'Apr', 'May', 'Jun',\n",
    "    'Jul', 'Aug', 'Sep', 'Oct', 'Nov', 'Dec'])\n",
    "\n",
    "# Adding number labels on top of each bar\n",
    "for bar in bars:\n",
    "    height = bar.get_height()\n",
    "    plt.text(\n",
    "        bar.get_x() + bar.get_width() / 2,\n",
    "        height + 1, \n",
    "        str(int(height)),\n",
    "        ha='center', va='bottom', fontsize=10)\n",
    "\n",
    "plt.tight_layout()\n",
    "plt.savefig(\"Data_cleaning_images/Strandings_Cleaning_Monthly_Barchart.png\", dpi=150, bbox_inches=\"tight\")\n",
    "plt.show()\n"
   ]
  },
  {
   "cell_type": "code",
   "execution_count": null,
   "id": "0d454460-7679-4810-a33b-12537d08f39d",
   "metadata": {},
   "outputs": [],
   "source": [
    "species_month = strandings_with_snapped['Month'].value_counts().sort_index()\n",
    "\n",
    "# Map month numbers to short names\n",
    "month_names = [calendar.month_abbr[m] for m in species_month.index]\n",
    "\n",
    "# Function to only show % if slice > 2%\n",
    "def autopct_func(pct):\n",
    "    return '{:.1f}%'.format(pct) if pct > 2 else ''\n",
    "\n",
    "# Plot pie chart\n",
    "plt.figure(figsize=(10, 10))\n",
    "wedges, texts, autotexts = plt.pie(\n",
    "    species_month,\n",
    "    labels=None,\n",
    "    autopct=autopct_func,\n",
    "    startangle=140,\n",
    "    wedgeprops={'edgecolor': 'black'}\n",
    ")\n",
    "\n",
    "# Add legend with month names\n",
    "plt.legend(\n",
    "    wedges,\n",
    "    month_names,\n",
    "    title='Month',\n",
    "    bbox_to_anchor=(1, 0.5),\n",
    "    loc='center left',\n",
    "    fontsize='small'\n",
    ")\n",
    "\n",
    "plt.title('Proportion of Strandings by Month')\n",
    "plt.axis('equal')  # Equal aspect ratio\n",
    "plt.tight_layout()\n",
    "plt.savefig(\"Data_cleaning_images/Strandings_Cleaning_Month_Piechart.png\", dpi=150, bbox_inches=\"tight\")\n",
    "plt.show()\n"
   ]
  },
  {
   "cell_type": "code",
   "execution_count": null,
   "id": "cf545f47-f944-4af4-8687-31eba729b3d0",
   "metadata": {},
   "outputs": [],
   "source": [
    "warnings.filterwarnings(\"ignore\", message=\".*tight_layout.*\")\n",
    "\n",
    "# ---- inputs ----\n",
    "species_of_interest = [\n",
    "    \"Pilot Whale\", \"Common Dolphin\", \"Harbour Porpoise\", \"Striped Dolphin\",\n",
    "    \"Minke Whale\", \"Bottlenose Dolphin\", \"Risso’s Dolphin\", \"Sperm Whale\",\n",
    "    \"Cuvier’s Beaked Whale\", \"Northern Bottlenose Whale\", \"White-Beaked Whale\",\n",
    "    \"Atlantic White-Sided Dolphin\"\n",
    "]\n",
    "\n",
    "# Geo data\n",
    "coastline = gpd.read_file(\"../merged_outline.gpkg\").to_crs(3857)\n",
    "gdf = strandings_with_snapped.copy()\n",
    "gdf['Species'] = gdf['Species'].astype(str).str.strip()\n",
    "gdf = gdf[gdf['Species'].isin(species_of_interest)].copy()\n",
    "gdf = gpd.GeoDataFrame(\n",
    "    gdf,\n",
    "    geometry=gpd.points_from_xy(gdf['longitude'], gdf['latitude']),  # <-- lon, lat\n",
    "    crs=\"EPSG:4326\"\n",
    ").to_crs(3857)\n",
    "\n",
    "# helper: monthly counts with zeros for all 12 months\n",
    "all_months = pd.Index(range(1, 13), name='Month')\n",
    "month_names = [calendar.month_abbr[m] for m in all_months]\n",
    "def monthly_counts_for(spp):\n",
    "    return gdf.loc[gdf['Species'] == spp, 'Month'].value_counts().reindex(all_months, fill_value=0)\n",
    "\n",
    "counts_dict = {s: monthly_counts_for(s) for s in species_of_interest}\n",
    "totals = {s: int(c.sum()) for s, c in counts_dict.items()}\n",
    "\n",
    "# grid sizing\n",
    "cols = 4\n",
    "rows = math.ceil(len(species_of_interest) / cols)\n",
    "fig = plt.figure(figsize=(cols*3.4, rows*5.0))\n",
    "gs = gridspec.GridSpec(rows*2, cols, figure=fig, hspace=0.35, wspace=0.25)\n",
    "\n",
    "# keep map extent consistent across panels\n",
    "xmin, ymin, xmax, ymax = coastline.total_bounds\n",
    "\n",
    "for i, spp in enumerate(species_of_interest):\n",
    "    r, c = divmod(i, cols)\n",
    "\n",
    "    # ---------- top: bar chart ----------\n",
    "    ax_bar = fig.add_subplot(gs[2*r, c])\n",
    "    counts = counts_dict[spp]\n",
    "    x = np.arange(1, 13)\n",
    "    bars = ax_bar.bar(x, counts.values, color='steelblue', width=0.8)\n",
    "\n",
    "    m = counts.max()\n",
    "    thresh = max(5, 0.2*m)  # annotate only meaningful bars\n",
    "    for b in bars:\n",
    "        h = b.get_height()\n",
    "        if h >= thresh:\n",
    "            ax_bar.text(b.get_x()+b.get_width()/2, h + 0.03*max(1, m), str(int(h)),\n",
    "                        ha='center', va='bottom', fontsize=8)\n",
    "\n",
    "    ax_bar.set_title(f\"{spp}  (n={totals[spp]})\", fontsize=10)\n",
    "    ax_bar.set_xticks(x, month_names, fontsize=6)\n",
    "    ax_bar.tick_params(axis='y', labelsize=8)\n",
    "    ax_bar.set_ylim(0, m*1.25 if m > 0 else 1)\n",
    "    ax_bar.grid(axis='y', linewidth=0.4, alpha=0.4)\n",
    "    ax_bar.spines['top'].set_visible(False)\n",
    "    ax_bar.spines['right'].set_visible(False)\n",
    "\n",
    "    # ---------- bottom: map ----------\n",
    "    ax_map = fig.add_subplot(gs[2*r+1, c])\n",
    "    coastline.plot(ax=ax_map, color='lightgrey', edgecolor='black', linewidth=0.5)\n",
    "    spp_pts = gdf[gdf['Species'] == spp]\n",
    "    if not spp_pts.empty:\n",
    "        spp_pts.plot(ax=ax_map, color='red', markersize=4, alpha=0.9)\n",
    "\n",
    "    ax_map.set_xlim(xmin, xmax)\n",
    "    ax_map.set_ylim(ymin, ymax)\n",
    "    ax_map.axis('off')\n",
    "\n",
    "# hide any unused cells (if species count not multiple of cols)\n",
    "for j in range(i+1, rows*cols):\n",
    "    r, c = divmod(j, cols)\n",
    "    fig.add_subplot(gs[2*r, c]).axis('off')\n",
    "    fig.add_subplot(gs[2*r+1, c]).axis('off')\n",
    "\n",
    "fig.suptitle(\"Monthly strandings (top) and locations (bottom) by species\", y=0.995, fontsize=12)\n",
    "fig.tight_layout()\n",
    "fig.savefig(\"Data_cleaning_images/Strandings_Cleaning_Species_Monthly_Barcharts_Plus_Maps.png\", dpi=200, bbox_inches=\"tight\")\n",
    "plt.show()\n"
   ]
  },
  {
   "cell_type": "code",
   "execution_count": null,
   "id": "9b1470d4-6b66-4d5e-b00c-b129295116be",
   "metadata": {},
   "outputs": [],
   "source": [
    "# Creating clean months by name\n",
    "df = strandings_with_snapped.copy()\n",
    "df[\"MonthNum\"] = pd.to_numeric(df[\"Month\"], errors=\"coerce\").astype(\"Int64\")\n",
    "df = df[df[\"MonthNum\"].between(1, 12)]\n",
    "df[\"MonthName\"] = df[\"MonthNum\"].map(lambda i: calendar.month_name[int(i)])\n",
    "\n",
    "# Months in the correct order\n",
    "month_names = [calendar.month_name[i] for i in range(1, 13) if (df[\"MonthNum\"] == i).any()]\n",
    "\n",
    "# Base map plus scale bar\n",
    "m = folium.Map(location=[55.61, -2.85], zoom_start=5, control_scale=True)\n",
    "\n",
    "# Colors per month\n",
    "cmap = plt.colormaps[\"tab20\"].resampled(len(month_names))\n",
    "month_colors = {name: mcolors.to_hex(cmap(i)) for i, name in enumerate(month_names)}\n",
    "\n",
    "# Plotting each month\n",
    "for name in month_names:\n",
    "    fg = folium.FeatureGroup(name=name, show=True)\n",
    "    subset = df[df[\"MonthName\"] == name]\n",
    "    for _, row in subset.iterrows():\n",
    "        folium.CircleMarker(\n",
    "            location=[row[\"latitude\"], row[\"longitude\"]],\n",
    "            radius=2,\n",
    "            color=month_colors[name], weight=0.8,\n",
    "            fill=True, fill_color=month_colors[name], fill_opacity=0.6,\n",
    "            popup=folium.Popup(f\"Month: {name}\", max_width=200),\n",
    "        ).add_to(fg)\n",
    "    fg.add_to(m)\n",
    "\n",
    "# Title\n",
    "m.get_root().html.add_child(folium.Element(\"\"\"\n",
    "<div style=\"position: fixed; top: 10px; left: 50%; transform: translateX(-50%);\n",
    " z-index: 9999; background: white; padding: 6px 10px; border: 1px solid #777;\n",
    " border-radius: 6px; font-weight: 600; box-shadow: 0 1px 3px rgba(0,0,0,.2);\">\n",
    " Strandings by Month (snapped points)\n",
    "</div>\n",
    "\"\"\"))\n",
    "\n",
    "# Legend\n",
    "legend_items = \"\".join(\n",
    "    f'<div><span style=\"display:inline-block;width:12px;height:12px;'\n",
    "    f'background:{month_colors[name]};border:1px solid #555;margin-right:6px;\"></span>{name}</div>'\n",
    "    for name in month_names\n",
    ")\n",
    "m.get_root().html.add_child(folium.Element(f\"\"\"\n",
    "<div style=\"position: fixed; bottom: 60px; left: 30px; z-index:9999;\n",
    " background: white; padding: 10px; border: 1px solid #777; border-radius: 6px;\n",
    " box-shadow: 0 1px 3px rgba(0,0,0,.2); font-size: 14px; max-height: 240px; overflow:auto;\">\n",
    "<b>Legend — Month</b>{legend_items}\n",
    "</div>\n",
    "\"\"\"))\n",
    "\n",
    "\n",
    "folium.LayerControl(collapsed=False).add_to(m)\n",
    "m\n",
    "\n",
    "\n"
   ]
  },
  {
   "cell_type": "code",
   "execution_count": null,
   "id": "6df74985-af40-40bb-a628-13463907670d",
   "metadata": {},
   "outputs": [],
   "source": [
    "m.save(\"Data_cleaning_images/Strandings_Cleaning_UK_Ireland_By_Month.html\")"
   ]
  },
  {
   "cell_type": "markdown",
   "id": "9c846852-5c0b-4964-98b2-664a13dae137",
   "metadata": {},
   "source": [
    "#### Link to monthly strandings [Netlify map](https://uk-ireland-by-month.netlify.app/)"
   ]
  },
  {
   "cell_type": "markdown",
   "id": "ac716015-c3bc-4312-8b03-7c5fb1e4b6af",
   "metadata": {},
   "source": [
    "#### Speices "
   ]
  },
  {
   "cell_type": "code",
   "execution_count": null,
   "id": "0f605120-e295-40b7-88e2-fb7c2d63c2b5",
   "metadata": {},
   "outputs": [],
   "source": [
    "# Group by species\n",
    "species_counts = strandings_with_snapped['Species'].value_counts()\n",
    "\n",
    "# Create the bar chart\n",
    "plt.figure(figsize=(15, 8))\n",
    "bars = plt.bar(species_counts.index, species_counts.values, width=0.8, color='steelblue')\n",
    "\n",
    "# Add axis labels & title\n",
    "plt.xlabel('Species')\n",
    "plt.ylabel('Total Count')\n",
    "plt.title('Total Count per Species in UK and Ireland')\n",
    "\n",
    "# Rotate x-axis labels\n",
    "plt.xticks(rotation=90)\n",
    "\n",
    "\n",
    "# Layout tweaks\n",
    "plt.tight_layout()\n",
    "\n",
    "# Save and show\n",
    "plt.savefig(\"Data_cleaning_images/Strandings_Cleaning_Species_Barchart_Annotated.png\",\n",
    "            dpi=150, bbox_inches=\"tight\")\n",
    "plt.show()\n"
   ]
  },
  {
   "cell_type": "code",
   "execution_count": null,
   "id": "1dd4a3e3-0a2c-450e-bbaa-a42ad300c0f2",
   "metadata": {},
   "outputs": [],
   "source": [
    "# Counts by species\n",
    "species_counts = strandings_with_snapped['Species'].value_counts()\n",
    "\n",
    "# Top 12 + \"Other\"\n",
    "top_n = 12\n",
    "top_counts = species_counts.iloc[:top_n]\n",
    "other_count = species_counts.iloc[top_n:].sum()\n",
    "sizes = top_counts.tolist() + ([other_count] if other_count > 0 else [])\n",
    "names = top_counts.index.tolist() + ([\"Other\"] if other_count > 0 else [])\n",
    "\n",
    "# Percentages for legend\n",
    "total = sum(sizes) if sum(sizes) > 0 else 1\n",
    "pcts = [100 * v / total for v in sizes]\n",
    "legend_labels = [f\"{n} — {p:.1f}%\" for n, p in zip(names, pcts)]\n",
    "\n",
    "# Plot pie (no autopct, no labels on slices)\n",
    "fig, ax = plt.subplots(figsize=(10, 10))\n",
    "wedges, _ = ax.pie(\n",
    "    sizes,\n",
    "    labels=None,        \n",
    "    startangle=140,\n",
    "    wedgeprops={'edgecolor': 'black'})\n",
    "\n",
    "# Legend with percentages for the first 12 + Other\n",
    "ax.legend(\n",
    "    wedges,\n",
    "    legend_labels,\n",
    "    title=\"Species\",\n",
    "    loc=\"center left\",\n",
    "    bbox_to_anchor=(1, 0.5),\n",
    "    fontsize='large')\n",
    "\n",
    "ax.set_title(\"Proportion of Strandings by Species\")\n",
    "ax.axis('equal')\n",
    "plt.tight_layout()\n",
    "\n",
    "plt.savefig(\"Data_cleaning_images/Strandings_Cleaning_Species_Pie_Top12_Other.png\",\n",
    "            dpi=150, bbox_inches=\"tight\")\n",
    "plt.show()\n"
   ]
  },
  {
   "cell_type": "code",
   "execution_count": null,
   "id": "fe6484f0-f658-49c0-8022-b3c321a1b083",
   "metadata": {},
   "outputs": [],
   "source": [
    "# Clean species names\n",
    "df = strandings_with_snapped.copy()\n",
    "df[\"SpeciesName\"] = (\n",
    "    df[\"Species\"]\n",
    "    .astype(str)\n",
    "    .str.strip()\n",
    "    .replace({\"\": pd.NA}))\n",
    "\n",
    "# Unique species, aphabetical\n",
    "species_names = sorted(df[\"SpeciesName\"].dropna().unique().tolist())\n",
    "\n",
    "#Base map + scale bar \n",
    "m = folium.Map(location=[55.61, -2.85], zoom_start=5, control_scale=True)\n",
    "\n",
    "# Colors per species\n",
    "cmap = plt.colormaps[\"tab20\"].resampled(len(species_names))\n",
    "species_colors = {name: mcolors.to_hex(cmap(i)) for i, name in enumerate(species_names)}\n",
    "\n",
    "# Plotting each species as its own layer \n",
    "for name in species_names:\n",
    "    fg = folium.FeatureGroup(name=name, show=True)\n",
    "    subset = df[df[\"SpeciesName\"] == name]\n",
    "    for _, row in subset.iterrows():\n",
    "        folium.CircleMarker(\n",
    "            location=[row[\"latitude\"], row[\"longitude\"]],\n",
    "            radius=4,\n",
    "            color=species_colors[name], weight=0.8,\n",
    "            fill=True, fill_color=species_colors[name], fill_opacity=0.6,\n",
    "            popup=folium.Popup(f\"Species: {name}\", max_width=220),\n",
    "        ).add_to(fg)\n",
    "    fg.add_to(m)\n",
    "\n",
    "# Title\n",
    "m.get_root().html.add_child(folium.Element(\"\"\"\n",
    "<div style=\"position: fixed; top: 10px; left: 50%; transform: translateX(-50%);\n",
    " z-index: 9999; background: white; padding: 6px 10px; border: 1px solid #777;\n",
    " border-radius: 6px; font-weight: 600; box-shadow: 0 1px 3px rgba(0,0,0,.2);\">\n",
    " Strandings by Species (snapped points)\n",
    "</div>\n",
    "\"\"\"))\n",
    "\n",
    "# Legend\n",
    "legend_items = \"\".join(\n",
    "    f'<div><span style=\"display:inline-block;width:12px;height:12px;'\n",
    "    f'background:{species_colors[name]};border:1px solid #555;margin-right:6px;\"></span>{name}</div>'\n",
    "    for name in species_names)\n",
    "\n",
    "m.get_root().html.add_child(folium.Element(f\"\"\"\n",
    "<div style=\"position: fixed; bottom: 60px; left: 30px; z-index:9999;\n",
    " background: white; padding: 10px; border: 1px solid #777; border-radius: 6px;\n",
    " box-shadow: 0 1px 3px rgba(0,0,0,.2); font-size: 14px; max-height: 260px; overflow:auto;\">\n",
    "<b>Legend — Species</b>\n",
    "{legend_items}\n",
    "</div>\n",
    "\"\"\"))\n",
    "\n",
    "#Layer control\n",
    "folium.LayerControl(collapsed=False).add_to(m)\n",
    "\n",
    "m\n"
   ]
  },
  {
   "cell_type": "code",
   "execution_count": null,
   "id": "8bde061b-8bea-4c8f-81f3-1f9bca942d6d",
   "metadata": {},
   "outputs": [],
   "source": [
    "m.save(\"Data_cleaning_images/Strandings_Cleaning_Species_Map.html\")"
   ]
  },
  {
   "cell_type": "markdown",
   "id": "98d3fd06-4821-4b55-94bd-21476aa77c55",
   "metadata": {},
   "source": [
    "#### Link to species strandings [Netlify map](https://uk-ireland-species.netlify.app/)"
   ]
  },
  {
   "cell_type": "code",
   "execution_count": null,
   "id": "ecdee5af-9724-42c1-81e7-9a84fe591d1d",
   "metadata": {},
   "outputs": [],
   "source": [
    "# Load coastline\n",
    "coastline = gpd.read_file(\"../merged_outline.gpkg\")\n",
    "\n",
    "# Reproject both to same CRS (Web Mercator for clean plotting)\n",
    "gdf = strandings_with_snapped.to_crs(epsg=3857)\n",
    "coastline = coastline.to_crs(epsg=3857)\n",
    "\n",
    "# Grid layout setup\n",
    "species_list = gdf['Species'].dropna().unique()\n",
    "n_species = len(species_list)\n",
    "cols = 4\n",
    "rows = math.ceil(n_species / cols)\n",
    "fig, axes = plt.subplots(rows, cols, figsize=(cols * 4, rows * 4))\n",
    "axes = axes.flatten()\n",
    "\n",
    "# Plot loop\n",
    "for i, species in enumerate(species_list):\n",
    "    ax = axes[i]\n",
    "    subset = gdf[gdf['Species'] == species]\n",
    "    \n",
    "    # Plot UK coastline\n",
    "    coastline.plot(ax=ax, color='lightgrey', edgecolor='black')\n",
    "    \n",
    "    # Plot strandings\n",
    "    subset.plot(ax=ax, color='purple', markersize=10)\n",
    "    \n",
    "    # Title with species name and count\n",
    "    count = len(subset)\n",
    "    ax.set_title(f\"{species} ({count})\")\n",
    "    ax.axis('off')\n",
    "\n",
    "\n",
    "# Turn off unused plots\n",
    "for j in range(i + 1, len(axes)):\n",
    "    axes[j].axis('off')\n",
    "\n",
    "plt.tight_layout()\n",
    "plt.savefig(\"Data_cleaning_images/Strandings_Cleaning_Species_Maps.png\", dpi=150, bbox_inches=\"tight\")\n",
    "plt.show()\n",
    "\n",
    "\n"
   ]
  },
  {
   "cell_type": "markdown",
   "id": "a9be695a-9cc0-4714-bef2-86eee613b188",
   "metadata": {},
   "source": [
    "#### Cleaning columns"
   ]
  },
  {
   "cell_type": "code",
   "execution_count": null,
   "id": "028a4553-6bf5-40c6-ac7a-2c2f344f586b",
   "metadata": {},
   "outputs": [],
   "source": [
    "# Remaming snapped_latitude and\tsnapped_longitude, to latitude and longitude\n",
    "strandings_with_snapped = strandings_with_snapped.rename(\n",
    "    columns={\n",
    "        'snapped_latitude': 'latitude',\n",
    "        'snapped_longitude': 'longitude'})\n",
    "\n",
    "# Checking the changes\n",
    "strandings_with_snapped.info()\n",
    "strandings_with_snapped.head()"
   ]
  },
  {
   "cell_type": "code",
   "execution_count": null,
   "id": "74088848-66bc-4b70-9342-bfc36c4472a5",
   "metadata": {},
   "outputs": [],
   "source": [
    "#creating a new df\n",
    "clean_strandings = strandings_with_snapped.copy()\n",
    "\n",
    "# Saving to CSV\n",
    "clean_strandings.to_csv('../clean_strandings.csv', index=False)\n",
    "\n",
    "# Display download link\n",
    "FileLink('../clean_strandings.csv')"
   ]
  },
  {
   "cell_type": "markdown",
   "id": "0d4ae2c9-1def-4142-a659-f5c9c705ff1e",
   "metadata": {},
   "source": [
    "-------------"
   ]
  },
  {
   "cell_type": "markdown",
   "id": "0694cfe0-4718-4a89-bb68-ae9c66d6339f",
   "metadata": {},
   "source": [
    "# Creating Random Points"
   ]
  },
  {
   "cell_type": "code",
   "execution_count": null,
   "id": "4d2c64f0-41d4-47c3-bf4c-9a80cc2254bf",
   "metadata": {},
   "outputs": [],
   "source": [
    "layers = fiona.listlayers(\"../merged_outline.gpkg\")\n"
   ]
  },
  {
   "cell_type": "code",
   "execution_count": null,
   "id": "71386d6c-d435-4982-a77f-9124f337dad9",
   "metadata": {},
   "outputs": [],
   "source": [
    "warnings.filterwarnings(\n",
    "    \"ignore\",\n",
    "    message=\".*unary_union.*deprecated.*\")\n",
    "\n",
    "#from shapely.ops import unary_union\n",
    "# Set a seed for reproducibility!\n",
    "np.random.seed(42)\n",
    "\n",
    "#Using the coastline geopackage\n",
    "gadm = gpd.read_file(\n",
    "    \"../merged_outline.gpkg\",\n",
    "#    layer=\"ADM_ADM_0\"\n",
    ").to_crs('EPSG:4326')\n",
    "\n",
    "# Getting all boundaries as a MultiLineString\n",
    "all_boundaries = gadm.geometry.boundary.unary_union \n",
    "\n",
    "# Preparing a list to collect all the points\n",
    "all_points = []\n",
    "\n",
    "#Setting the number of points to match the number of clean strandings\n",
    "N = len(clean_strandings)\n",
    "\n",
    "# Distribute points proportional along the length of the boundary\n",
    "if isinstance(all_boundaries, MultiLineString):\n",
    "    lengths = np.array([line.length for line in all_boundaries.geoms])\n",
    "    n_per = np.round(N * lengths / lengths.sum()).astype(int)\n",
    "    n_per[-1] += N - n_per.sum()\n",
    "\n",
    "    for line, n in zip(all_boundaries.geoms, n_per):\n",
    "        if n < 1:\n",
    "            continue\n",
    "        distances = np.sort(np.random.uniform(0, line.length, n))\n",
    "        pts = [line.interpolate(distance) for distance in distances]\n",
    "        all_points.extend(pts)\n",
    "else:\n",
    "    line = all_boundaries\n",
    "    distances = np.sort(np.random.uniform(0, line.length, N))\n",
    "    all_points = [line.interpolate(distance) for distance in distances]\n",
    "\n",
    "random_points_gdf = gpd.GeoDataFrame(geometry=all_points, crs=\"EPSG:4326\")"
   ]
  },
  {
   "cell_type": "code",
   "execution_count": null,
   "id": "6f420588-f0f3-40a0-acad-8f15cda7ec01",
   "metadata": {},
   "outputs": [],
   "source": [
    "#Visulising the random points \n",
    "m = folium.Map(location=[55.61, -2.85], zoom_start=5)\n",
    "for pt in random_points_gdf.geometry:\n",
    "    folium.CircleMarker(\n",
    "        location=[pt.y, pt.x],\n",
    "        radius=2, color='red', fill=True, fill_color='red'\n",
    "    ).add_to(m)\n",
    "    \n",
    "# Title \n",
    "m.get_root().html.add_child(folium.Element(\"\"\"\n",
    "<div style=\"position: fixed; top: 10px; left: 50%; transform: translateX(-50%);\n",
    " z-index: 9999; background: white; padding: 6px 10px; border: 1px solid #777;\n",
    " border-radius: 6px; font-weight: 600; box-shadow: 0 1px 3px rgba(0,0,0,.2);\">\n",
    " Random Points\n",
    "</div>\n",
    "\"\"\"))\n",
    "\n",
    "m"
   ]
  },
  {
   "cell_type": "code",
   "execution_count": null,
   "id": "5c302f52-2c31-4143-b4c2-0a6fd564bb74",
   "metadata": {},
   "outputs": [],
   "source": [
    "m.save(\"Data_cleaning_images/Strandings_Cleaning_Random_Points.html\")"
   ]
  },
  {
   "cell_type": "markdown",
   "id": "f95238a6-79f3-461c-ba50-3e4d13f5fd9e",
   "metadata": {},
   "source": [
    "#### Link to species strandings [Netlify map](https://uk-random.netlify.app/) "
   ]
  },
  {
   "cell_type": "code",
   "execution_count": null,
   "id": "97e776a1-7381-47a5-866e-c5bb0c26401e",
   "metadata": {},
   "outputs": [],
   "source": [
    "random_points_gdf.info()\n",
    "random_points_gdf.head()"
   ]
  },
  {
   "cell_type": "code",
   "execution_count": null,
   "id": "ebdbb473-32bc-4857-86c9-80bba90a8d92",
   "metadata": {},
   "outputs": [],
   "source": [
    "print(\"EPSG:\", random_points_gdf.crs.to_epsg())\n"
   ]
  },
  {
   "cell_type": "code",
   "execution_count": null,
   "id": "7b836319-a79f-43c1-be2d-b5eb0744d196",
   "metadata": {},
   "outputs": [],
   "source": [
    "#creating a new df\n",
    "random_strandings = random_points_gdf.copy()\n",
    "\n",
    "# Saving to CSV\n",
    "random_strandings.to_csv('../random_strandings.csv', index=False)\n",
    "\n",
    "# Display download link\n",
    "FileLink('../random_strandings.csv')"
   ]
  },
  {
   "cell_type": "code",
   "execution_count": null,
   "id": "67bb0b2b-1264-4ce1-a815-192a3038a276",
   "metadata": {},
   "outputs": [],
   "source": []
  }
 ],
 "metadata": {
  "kernelspec": {
   "display_name": "Python 3 (ipykernel)",
   "language": "python",
   "name": "python3"
  },
  "language_info": {
   "codemirror_mode": {
    "name": "ipython",
    "version": 3
   },
   "file_extension": ".py",
   "mimetype": "text/x-python",
   "name": "python",
   "nbconvert_exporter": "python",
   "pygments_lexer": "ipython3",
   "version": "3.11.7"
  }
 },
 "nbformat": 4,
 "nbformat_minor": 5
}
