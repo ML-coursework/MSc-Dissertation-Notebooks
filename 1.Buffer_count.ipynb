{
 "cells": [
  {
   "cell_type": "markdown",
   "id": "949504d3-2fa0-4c1c-90ce-ac0222a0fde7",
   "metadata": {},
   "source": [
    "# <u>Buffer count</u>"
   ]
  },
  {
   "cell_type": "code",
   "execution_count": null,
   "id": "07b53da4-15d5-4de6-a060-9beabb358de3",
   "metadata": {},
   "outputs": [],
   "source": [
    "# Importing Python packages and modules\n",
    "import numpy as np\n",
    "import pandas as pd\n",
    "import geopandas as gpd\n",
    "import os\n",
    "import rasterio\n",
    "import matplotlib.pyplot as plt\n",
    "import folium\n",
    "import rasterio.mask\n",
    "import warnings\n",
    "from shapely.geometry import Point\n",
    "from IPython.display import FileLink\n",
    "from folium.plugins import HeatMap\n",
    "from tqdm import tqdm\n",
    "from time import time\n",
    "from shapely import wkt\n",
    "from pathlib import Path\n",
    "from shapely.geometry import mapping\n"
   ]
  },
  {
   "cell_type": "markdown",
   "id": "c4c17f55-e5a2-4527-b994-20f850a7b9a5",
   "metadata": {},
   "source": [
    "#### Importing the data"
   ]
  },
  {
   "cell_type": "code",
   "execution_count": null,
   "id": "c7970d87-30cf-4e9a-a936-a9bd6ab034e9",
   "metadata": {},
   "outputs": [],
   "source": [
    "# Snapped clean strandings (points) (see EDA notebook)\n",
    "clean_strandings = gpd.read_file(\"clean_strandings.csv\")\n",
    "\n",
    "# Roads GeoDataFrame (lines)\n",
    "roads = gpd.read_file(\"merged_roads.gpkg\")\n",
    "\n",
    "# Buildings GeoDataFrame (polygons)\n",
    "buildings = gpd.read_file(\"UK_Ireland_Buildings.gpkg\")\n",
    "\n",
    "# Bathymetric (TIFF)\n",
    "bath = rasterio.open(\"uk_ireland_bath.tiff\")\n",
    "\n",
    "# Random strandings (points) (see EDA notebook)\n",
    "random_points = pd.read_csv(\"random_strandings.csv\")"
   ]
  },
  {
   "cell_type": "markdown",
   "id": "c3954918-08a6-4a3f-a42c-12843ed2e999",
   "metadata": {},
   "source": [
    "#### Making clean strandings and random points GeoDataFrames"
   ]
  },
  {
   "cell_type": "code",
   "execution_count": null,
   "id": "66c5b458-8757-4bec-8d39-cac5b9b2ad7c",
   "metadata": {},
   "outputs": [],
   "source": [
    "# Making clean_strandings and random_points gdf with a crs of EPSG: 4326\n",
    "clean_strandings['geometry'] = clean_strandings['geometry'].apply(wkt.loads)\n",
    "clean_strandings['geometry'] = clean_strandings.apply(lambda row: Point(row['longitude'], row['latitude']), axis=1)\n",
    "clean_strandings = gpd.GeoDataFrame(clean_strandings, geometry='geometry', crs=\"EPSG:4326\")\n",
    "\n",
    "\n",
    "random_points['geometry'] = random_points['geometry'].apply(wkt.loads)\n",
    "random_points = gpd.GeoDataFrame(random_points, geometry='geometry', crs='EPSG:4326')"
   ]
  },
  {
   "cell_type": "markdown",
   "id": "2ab3fcb0-d4f2-4736-b8dc-1504ddbdcdbe",
   "metadata": {},
   "source": [
    "--------------------------------------------------------------------------------------------------------------------------------------------------------"
   ]
  },
  {
   "cell_type": "markdown",
   "id": "aec9e7fb-d91b-4a06-b79c-ae947f6133cb",
   "metadata": {},
   "source": [
    "# Cleaning and checking the data\n",
    "## Strandings"
   ]
  },
  {
   "cell_type": "code",
   "execution_count": null,
   "id": "d81b6b46-062a-4f12-99af-d7b1ae26556b",
   "metadata": {},
   "outputs": [],
   "source": [
    "# Checking CRS basic info for strandings\n",
    "print(\"CRS:\", clean_strandings.crs)\n",
    "clean_strandings.info()\n",
    "clean_strandings.head()"
   ]
  },
  {
   "cell_type": "code",
   "execution_count": null,
   "id": "94722dd6-68f2-411a-b25b-ceada911bed0",
   "metadata": {},
   "outputs": [],
   "source": [
    "clean_strandings.describe()"
   ]
  },
  {
   "cell_type": "markdown",
   "id": "50024723-7c4b-4958-b4e1-93c82fc56d78",
   "metadata": {},
   "source": [
    "## Roads data"
   ]
  },
  {
   "cell_type": "code",
   "execution_count": null,
   "id": "9b79cb8b-10b9-4825-a7e9-852fdad19371",
   "metadata": {},
   "outputs": [],
   "source": [
    "# Checking CRS and basic info for roads\n",
    "print(\"CRS:\", roads.crs)\n",
    "roads.info()\n",
    "roads.head()"
   ]
  },
  {
   "cell_type": "code",
   "execution_count": null,
   "id": "db29885c-1ff1-435f-98ac-e168689a18d9",
   "metadata": {},
   "outputs": [],
   "source": [
    "roads.describe()"
   ]
  },
  {
   "cell_type": "code",
   "execution_count": null,
   "id": "2c8549f3-dfe1-485e-97f3-4922cc449d68",
   "metadata": {},
   "outputs": [],
   "source": [
    "#Dropping unnecessary columns\n",
    "roads = roads.drop(columns=['surface', 'smoothness', 'width', 'lanes', 'oneway', 'bridge', 'layer', 'source', 'name:en'])\n",
    "roads.head()"
   ]
  },
  {
   "cell_type": "markdown",
   "id": "97aaf95e-87a4-4b05-9243-12788de9e2e3",
   "metadata": {},
   "source": [
    "## Buildings data"
   ]
  },
  {
   "cell_type": "code",
   "execution_count": null,
   "id": "6921b56b-4afa-4d67-90dc-b71cd33180db",
   "metadata": {},
   "outputs": [],
   "source": [
    "#Checking CRS and basic info for buildings\n",
    "print(\"CRS:\", buildings.crs)\n",
    "buildings.info()\n",
    "buildings.head()"
   ]
  },
  {
   "cell_type": "code",
   "execution_count": null,
   "id": "dce8d191-410c-4f8c-8b36-339a9e7a795e",
   "metadata": {},
   "outputs": [],
   "source": [
    "#Dropping unnecessary columns\n",
    "buildings = buildings.drop(columns=['code',\t'fclass',\t'name'])\n",
    "buildings.head()"
   ]
  },
  {
   "cell_type": "markdown",
   "id": "d78d9299-fee0-455b-9573-a0d86694269b",
   "metadata": {},
   "source": [
    "## Bathymetric data"
   ]
  },
  {
   "cell_type": "code",
   "execution_count": null,
   "id": "7a19bf01-cc7f-42e0-bf5e-c32d31f5b315",
   "metadata": {},
   "outputs": [],
   "source": [
    "# Checking CRS and basic info for Bathymetric data\n",
    "print(\"CRS:\", bath.crs)\n",
    "print(\"Bounds:\", bath.bounds)\n",
    "print(\"Width, Height:\", bath.width, bath.height)\n",
    "print(\"Number of bands:\", bath.count)"
   ]
  },
  {
   "cell_type": "markdown",
   "id": "7ec7682a-4e05-4c3c-ab47-a109850e05cb",
   "metadata": {},
   "source": [
    "## Random points "
   ]
  },
  {
   "cell_type": "code",
   "execution_count": null,
   "id": "526d0a19-7933-487d-a0ac-23fb1092977d",
   "metadata": {},
   "outputs": [],
   "source": [
    "# Checking CRS and basic info for random data\n",
    "random_points.crs\n",
    "random_points.info()\n",
    "random_points.head()"
   ]
  },
  {
   "cell_type": "markdown",
   "id": "1b89cb69-be28-4eb7-98cc-3806afdb54ac",
   "metadata": {},
   "source": [
    "--------------------------------------------------------------------------------------------------------------------------------------------------------"
   ]
  },
  {
   "cell_type": "markdown",
   "id": "c0d259ec-5dc0-4e72-add0-b8f9bf043cc4",
   "metadata": {},
   "source": [
    "# Heatmaps"
   ]
  },
  {
   "cell_type": "code",
   "execution_count": null,
   "id": "d06de796-6a9b-4247-b092-3cc027300bba",
   "metadata": {},
   "outputs": [],
   "source": [
    "# Converting GDF into Folium (WGS84) list of lat,long, dropping any missing geometries and keeping only point features for the map\n",
    "def to_latlon_list(gdf):\n",
    "    if gdf.crs is not None and gdf.crs.to_epsg() != 4326:\n",
    "        gdf = gdf.to_crs(4326)\n",
    "    g = gdf.geometry.dropna()\n",
    "    g = g[g.geom_type == \"Point\"]\n",
    "    return [[p.y, p.x] for p in g]\n",
    "\n",
    "#Preparing empty lists\n",
    "clean_heat  = to_latlon_list(clean_strandings.copy())\n",
    "random_heat = to_latlon_list(random_points.copy())\n",
    "\n",
    "#Base map\n",
    "m = folium.Map(location=[55.61, -2.85], zoom_start=5, tiles='cartodbpositron')\n",
    "#Creating strandings layer in red\n",
    "fg_clean = folium.FeatureGroup(name=\"Strandings heat\")\n",
    "HeatMap(\n",
    "    clean_heat,\n",
    "    radius=14, blur=16, max_zoom=10, min_opacity=0.2,\n",
    "    gradient={0.2:'#fee5d9',0.4:'#fcae91',0.6:'#fb6a4a',0.8:'#de2d26',1:'#a50f15'}  # reds\n",
    ").add_to(fg_clean)\n",
    "fg_clean.add_to(m)\n",
    "#Creating random layer in blue\n",
    "fg_random = folium.FeatureGroup(name=\"Random points heat\")\n",
    "HeatMap(\n",
    "    random_heat,\n",
    "    radius=14, blur=16, max_zoom=10, min_opacity=0.2,\n",
    "    gradient={0.2:'#deebf7',0.4:'#9ecae1',0.6:'#6baed6',0.8:'#3182bd',1:'#08519c'}  # blues\n",
    ").add_to(fg_random)\n",
    "fg_random.add_to(m)\n",
    "#Adding layer control\n",
    "folium.LayerControl(collapsed=False).add_to(m)\n",
    "\n",
    "#Adding a title\n",
    "title_html = \"\"\"\n",
    "<div style=\"\n",
    "    position: fixed; top: 10px; left: 50%; transform: translateX(-50%);\n",
    "    z-index: 9999; background-color: white; padding: 10px; \n",
    "    border: 1px solid #777; border-radius: 6px; \n",
    "    font-size: 18px; font-weight: bold; \n",
    "    box-shadow: 0px 2px 6px rgba(0,0,0,0.3);\n",
    "\">\n",
    "Stranding vs Random Point Heatmaps\n",
    "</div>\n",
    "\"\"\"\n",
    "m.get_root().html.add_child(folium.Element(title_html))\n",
    "\n",
    "# Adding a legend\n",
    "legend_html = \"\"\"\n",
    "<div style=\"\n",
    "    position: fixed; bottom: 50px; left: 50px; z-index:9999;\n",
    "    background-color: white; padding: 10px; \n",
    "    border: 1px solid #777; border-radius: 6px;\n",
    "    box-shadow: 0px 2px 6px rgba(0,0,0,0.3); \n",
    "    font-size: 14px;\n",
    "\">\n",
    "<b>Legend</b><br>\n",
    "<span style=\"display:inline-block;width:12px;height:12px;\n",
    "    background:red;border:1px solid #555;margin-right:6px;\"></span>\n",
    "Strandings heat<br>\n",
    "<span style=\"display:inline-block;width:12px;height:12px;\n",
    "    background:blue;border:1px solid #555;margin-right:6px;\"></span>\n",
    "Random points heat\n",
    "</div>\n",
    "\"\"\"\n",
    "m.get_root().html.add_child(folium.Element(legend_html))\n",
    "\n",
    "# Display map\n",
    "m\n"
   ]
  },
  {
   "cell_type": "code",
   "execution_count": null,
   "id": "ba71be77-c0d7-4274-ac7e-42c817872b66",
   "metadata": {},
   "outputs": [],
   "source": [
    "#Saving the map\n",
    "m.save(\"Method_results_images/Buffer_Count_Heatmap.html\")"
   ]
  },
  {
   "cell_type": "markdown",
   "id": "2847598d-4c25-4afc-b533-fbcd0a766e10",
   "metadata": {},
   "source": [
    "#### **Random hotspot clusters:** in western Scotland, western Ireland, and the northwest coast, this is likely influenced by the indented and irregular coastline in these regions, where numerous headlands, bays, and inlets create more coastal area for points to be placed.\n",
    "\n",
    "#### **Stranding hotspot clusters:** are concentrated in the southwest of England and we do see a high number of strandings in this area."
   ]
  },
  {
   "cell_type": "markdown",
   "id": "a8ba68bf-0514-4690-9011-9b5a33cadc7b",
   "metadata": {},
   "source": [
    "#### Saved as a link with Netlify [UK and Ireland Heatmap link](https://heatmap-strandings-random.netlify.app/)"
   ]
  },
  {
   "cell_type": "markdown",
   "id": "167a6c7b-c849-4fe5-8fa9-c9c370468221",
   "metadata": {},
   "source": [
    "--------------------------------------------------------------------------------------------------------------------------------------------------------"
   ]
  },
  {
   "cell_type": "markdown",
   "id": "3bcebcc9-e639-4c07-941c-2f5f1d64c5e0",
   "metadata": {},
   "source": [
    "# Creating buffers around each point (strandings and random)"
   ]
  },
  {
   "cell_type": "code",
   "execution_count": null,
   "id": "6ad65e9b-bb94-4008-bdfa-d14ed5210a67",
   "metadata": {},
   "outputs": [],
   "source": [
    "#Creating buffer sizes in meters for the strandings and random point data\n",
    "buffer_sizes = [500, 1000, 1500, 3000, 5000]\n",
    "datasets = {\n",
    "    'Strandings': clean_strandings, \n",
    "    'Random': random_points}\n"
   ]
  },
  {
   "cell_type": "markdown",
   "id": "01b70bd3-6c68-4c41-b084-24e0c07f57fe",
   "metadata": {},
   "source": [
    "#### Setting CRS"
   ]
  },
  {
   "cell_type": "code",
   "execution_count": null,
   "id": "87fd96cb-098e-4e1e-894f-a2de57b6ef98",
   "metadata": {},
   "outputs": [],
   "source": [
    "# Setting raw lat/long and target metric CRS for buffers\n",
    "SRC_CRS = \"EPSG:4326\"    \n",
    "DST_CRS = \"EPSG:27700\" \n",
    "\n",
    "def set_crs_if_missing(gdf: gpd.GeoDataFrame, crs: str) -> gpd.GeoDataFrame:\n",
    "    if gdf.crs is None:\n",
    "        return gdf.set_crs(crs)\n",
    "    return gdf\n",
    "def to_metric(gdf: gpd.GeoDataFrame, dst_crs: str = DST_CRS) -> gpd.GeoDataFrame:\n",
    "    return gdf.to_crs(dst_crs)\n",
    "\n",
    "\n",
    "#Ensure source CRS is set\n",
    "clean_strandings = set_crs_if_missing(clean_strandings, SRC_CRS)\n",
    "buildings        = set_crs_if_missing(buildings, SRC_CRS)    \n",
    "roads            = set_crs_if_missing(roads, SRC_CRS)       \n",
    "random_points    = set_crs_if_missing(random_points, SRC_CRS) \n",
    "\n",
    "# Reprojecting to metres for analysis\n",
    "strandings_proj = to_metric(clean_strandings, DST_CRS)\n",
    "buildings_proj  = to_metric(buildings,        DST_CRS)\n",
    "roads_proj      = to_metric(roads,            DST_CRS)\n",
    "random_proj     = to_metric(random_points,    DST_CRS)\n",
    "\n",
    "# ---- 4) Quick sanity checks ----\n",
    "print(\"CRS (proj):\")\n",
    "print(\"  strandings_proj:\", strandings_proj.crs)\n",
    "print(\"  buildings_proj :\", buildings_proj.crs)\n",
    "print(\"  roads_proj     :\", roads_proj.crs)\n",
    "print(\"  random_proj    :\", random_proj.crs)\n",
    "# print(\"  buffers_gdf    :\", buffers_gdf.crs)  # if applicable\n",
    "\n",
    "# (Optional) peek at geometries to confirm sensible coordinates in metres\n",
    "# print(\"Sample:\", strandings_proj.geometry.head())\n"
   ]
  },
  {
   "cell_type": "markdown",
   "id": "51b2123b-6592-44bb-88b2-f91e501817d7",
   "metadata": {},
   "source": [
    "#### visulising the data"
   ]
  },
  {
   "cell_type": "code",
   "execution_count": null,
   "id": "a4930060-47ab-44c8-a4bb-c51dcf1092c1",
   "metadata": {},
   "outputs": [],
   "source": [
    "# # Checking all my layers alighn\n",
    "# fig, ax = plt.subplots(figsize=(8, 8))\n",
    "# strandings_proj.plot(ax=ax, color='blue', label='Strandings', markersize=2)\n",
    "# random_proj.plot(ax=ax, color='red', label='Random', markersize=2)\n",
    "# buildings_proj.plot(ax=ax, color='black', label='Buildings', markersize=1, alpha=0.4)\n",
    "# roads_proj.plot(ax=ax, color='green', label='Roads', linewidth=0.5, alpha=0.7)\n",
    "# plt.legend()\n",
    "# plt.savefig(\"Method_results_images/Buffer_Count_Checking_crs_layers.png\", dpi=150, bbox_inches=\"tight\")\n",
    "# plt.show()\n"
   ]
  },
  {
   "cell_type": "markdown",
   "id": "b538051a-8d93-4780-a606-c0142397b279",
   "metadata": {},
   "source": [
    "#### Generating buffer geometries"
   ]
  },
  {
   "cell_type": "code",
   "execution_count": null,
   "id": "3356db06-8f5e-455c-a4e3-46442474d0fb",
   "metadata": {},
   "outputs": [],
   "source": [
    "#creating an empty list\n",
    "results = []\n",
    "#looping over the buffer sizes, making copies and computing the buffer polygons\n",
    "for data_label, df in zip(['Strandings', 'Random'], [strandings_proj, random_proj]):\n",
    "    for buffer_size in buffer_sizes: \n",
    "        df_buf = df.copy()\n",
    "        df_buf['geometry'] = df.geometry.buffer(buffer_size)\n",
    "#logging a new row for each buffer polygon\n",
    "        for i, buf in enumerate(df_buf.geometry):\n",
    "            results.append({\n",
    "                'Data': f\"{data_label} points\",\n",
    "                'Buffer size': f\"{buffer_size}m\", \n",
    "                'Buffer geometry': buf,\n",
    "                'Point ID': df.index[i]})\n",
    "\n",
    "# creating a dataframe \n",
    "buffer_df = pd.DataFrame(results)"
   ]
  },
  {
   "cell_type": "code",
   "execution_count": null,
   "id": "fac3831c-f9be-446b-9c62-c3fc2ed05ff9",
   "metadata": {},
   "outputs": [],
   "source": [
    "#Checking the data\n",
    "buffer_df.sample(15)"
   ]
  },
  {
   "cell_type": "markdown",
   "id": "5c34331f-ee99-40a4-86b0-21007d4a6271",
   "metadata": {},
   "source": [
    "#### Visulising the buffer and overlays"
   ]
  },
  {
   "cell_type": "code",
   "execution_count": null,
   "id": "0f2fe719-dc4e-4ab2-b732-96779d6db926",
   "metadata": {},
   "outputs": [],
   "source": [
    "# Hiding the warning for aesthetics \n",
    "warnings.filterwarnings(\n",
    "    \"ignore\", \n",
    "    message=\"Legend does not support handles for PatchCollection\",\n",
    "    category=UserWarning)\n",
    "\n",
    "\n",
    "# Choosing the index to visualise\n",
    "i = 1 \n",
    "\n",
    "# Isolating the point and make a GeoDataFrame\n",
    "point = strandings_proj.iloc[[i]]\n",
    "buffer_dist = 1500  # meters, adjust as needed\n",
    "point_buffer = point.geometry.buffer(buffer_dist)\n",
    "\n",
    "# Selecting roads and buildings within the buffer\n",
    "roads_within_buffer = roads_proj[roads_proj.intersects(point_buffer.iloc[0])]\n",
    "buildings_within_buffer = buildings_proj[buildings_proj.intersects(point_buffer.iloc[0])]\n",
    "\n",
    "# Plotting everything\n",
    "fig, ax = plt.subplots(figsize=(8, 8))\n",
    "\n",
    "# Plotting the buffer\n",
    "point_buffer.plot(ax=ax, color='lightblue', alpha=0.3, edgecolor='blue', label='Buffer')\n",
    "\n",
    "# Plotting strandings points\n",
    "point.plot(ax=ax, color='red', markersize=50, label='Stranding')\n",
    "\n",
    "# Plotting roads and buildings inside the buffer\n",
    "roads_within_buffer.plot(ax=ax, color='green', linewidth=1, label='Roads')\n",
    "buildings_within_buffer.plot(ax=ax, color='black', alpha=0.7, label='Buildings')\n",
    "\n",
    "plt.legend()\n",
    "plt.title('Visualisation of Stranding Buffer and Counted Features')\n",
    "plt.axis('equal')  \n",
    "plt.savefig(\"Method_results_images/Buffer_Count_Roads_buildings_buffer_visulisation.png\", dpi=150, bbox_inches=\"tight\")\n",
    "plt.show()"
   ]
  },
  {
   "cell_type": "markdown",
   "id": "923e6726-6b16-4462-983e-b7189ab45283",
   "metadata": {},
   "source": [
    "--------------------------------------------------------------------------------------------------------------------------------------------------------"
   ]
  },
  {
   "cell_type": "markdown",
   "id": "3bc536e5-45e7-4394-a986-66d0b154977d",
   "metadata": {},
   "source": [
    "# Counting inside the buffers"
   ]
  },
  {
   "cell_type": "markdown",
   "id": "c14fe75f-e373-4c41-90e2-8b9864d10125",
   "metadata": {},
   "source": [
    "#### Counting the features inside each buffer"
   ]
  },
  {
   "cell_type": "code",
   "execution_count": null,
   "id": "b53579f8-bc6f-4826-91b2-5f80486d75b1",
   "metadata": {},
   "outputs": [],
   "source": [
    "# Making a copy so I can add matrics with out altering the orginal\n",
    "buffer_metrics = buffer_df.copy()\n",
    "\n",
    "# Creating empty columns for the data to go in, bathymetric data is run separately\n",
    "buffer_metrics['Other points'] = np.nan\n",
    "buffer_metrics['Road length'] = np.nan\n",
    "buffer_metrics['Building count'] = np.nan\n",
    "buffer_metrics['Bathymetry mean'] = np.nan \n",
    "\n",
    "# Building spatial indexes to quickly find buffer geometries, to speed up precise geometric tests\n",
    "roads_sindex = roads_proj.sindex\n",
    "buildings_sindex = buildings_proj.sindex\n",
    "strandings_sindex = strandings_proj.sindex\n",
    "random_sindex = random_proj.sindex\n",
    "\n",
    "# Its slow code, so I added a progress bar\n",
    "for idx, row in tqdm(buffer_metrics.iterrows(), total=len(buffer_metrics), desc=\"Processing buffers\"):\n",
    "\n",
    "# Getting the buffer and correct point layer to count the correct 'other' points    \n",
    "    buf = row['Buffer geometry']\n",
    "    point_id = row['Point ID']\n",
    "    is_stranding = row['Data'] == 'Strandings points'\n",
    "\n",
    "    points_gdf = strandings_proj if is_stranding else random_proj\n",
    "    points_index = strandings_sindex if is_stranding else random_sindex\n",
    "\n",
    "# Counting the other points within buffer (excluding the centre point)\n",
    "    possible_matches_index = list(points_index.intersection(buf.bounds))\n",
    "    possible_matches = points_gdf.iloc[possible_matches_index]\n",
    "    other_points = possible_matches.drop(index=point_id, errors='ignore')\n",
    "    count_in_buffer = other_points.geometry.within(buf).sum()\n",
    "    buffer_metrics.at[idx, 'Other points'] = count_in_buffer\n",
    "\n",
    "# Calculating the road length within each buffer\n",
    "    road_matches_index = list(roads_sindex.intersection(buf.bounds))\n",
    "    roads_in = roads_proj.iloc[road_matches_index]\n",
    "    total_length = 0.0\n",
    "\n",
    "    for road in roads_in.geometry:\n",
    "        clipped = road.intersection(buf)\n",
    "        if not clipped.is_empty:\n",
    "            if clipped.geom_type == 'LineString':\n",
    "                total_length += clipped.length\n",
    "            elif clipped.geom_type == 'MultiLineString':\n",
    "                total_length += sum(seg.length for seg in clipped.geoms)\n",
    "\n",
    "    buffer_metrics.at[idx, 'Road length'] = total_length\n",
    "\n",
    "# Counting the number of buildings inside each buffer\n",
    "    building_matches_index = list(buildings_sindex.intersection(buf.bounds))\n",
    "    buildings_in = buildings_proj.iloc[building_matches_index]\n",
    "    building_count = buildings_in.geometry.within(buf).sum()\n",
    "    buffer_metrics.at[idx, 'Building count'] = building_count\n"
   ]
  },
  {
   "cell_type": "markdown",
   "id": "11cc8f53-33b4-4748-aa79-f06be67726e9",
   "metadata": {},
   "source": [
    "#### Mean count of Bathymetric tiles inside each buffer"
   ]
  },
  {
   "cell_type": "code",
   "execution_count": null,
   "id": "c5b59c44-89a4-4370-aa5e-ee04f98de090",
   "metadata": {},
   "outputs": [],
   "source": [
    "# Making sure my buffers match the rasters CRS\n",
    "buffer_df_raster = buffer_df.copy()\n",
    "buffer_df_raster = buffer_df_raster.set_geometry('Buffer geometry')\n",
    "buffer_df_raster = buffer_df_raster.set_crs(\"EPSG:27700\", allow_override=True)\n",
    "buffer_df_raster = buffer_df_raster.to_crs(bath.crs)\n",
    "\n",
    "# Creating an empty list to collect results\n",
    "bathymetry_results = []\n",
    "\n",
    "# Adding a timer, not as slow as the previous cell but still wanted to keep an eye on the progress\n",
    "start = time()\n",
    "\n",
    "# Looping over each buffer and calculating mean depth, dropping nodata or below zero values\n",
    "for idx, row in tqdm(buffer_df_raster.iterrows(), total=len(buffer_df_raster)):\n",
    "    geom = [mapping(row['Buffer geometry'])]\n",
    "\n",
    "    try:\n",
    "        out_image, _ = rasterio.mask.mask(bath, geom, crop=True)\n",
    "        band = out_image[0]\n",
    "\n",
    "        if bath.nodata is not None:\n",
    "            band = band[band != bath.nodata]\n",
    "        band = band[band > 0]\n",
    "\n",
    "        mean_value = band.mean() if band.size > 0 else np.nan\n",
    "    except Exception as e:\n",
    "        mean_value = np.nan\n",
    "\n",
    "# Storing the row of outputs for each buffer    \n",
    "    bathymetry_results.append({\n",
    "        'Data': row['Data'],\n",
    "        'Buffer size': row['Buffer size'],\n",
    "        'Point ID': row['Point ID'],\n",
    "        'Bathymetry mean': mean_value})\n",
    "\n",
    "# End the timer when finished and printing out how long it took\n",
    "end = time()\n",
    "print(f\"Finished in {(end - start)/60:.2f} minutes\")\n",
    "\n",
    "# Convert to DataFrame\n",
    "bath_df = pd.DataFrame(bathymetry_results)\n"
   ]
  },
  {
   "cell_type": "markdown",
   "id": "61af2e71-752f-4512-81e5-b0bd07df76dc",
   "metadata": {},
   "source": [
    "#### Visulising the bathymetric buffer"
   ]
  },
  {
   "cell_type": "code",
   "execution_count": null,
   "id": "933aba26-fc67-4a05-a2d5-a93a5d8cd49d",
   "metadata": {},
   "outputs": [],
   "source": [
    "\n",
    "# Choosing index and buffer distance\n",
    "i = 10\n",
    "buffer_dist = 500\n",
    "\n",
    "# Getting the point and buffer\n",
    "point = strandings_proj.iloc[[i]]\n",
    "point_buffer = point.geometry.buffer(buffer_dist)\n",
    "point_buffer = point_buffer.to_crs(bath.crs)\n",
    "\n",
    "# Clipping the raster\n",
    "try:\n",
    "    clipped, _ = rasterio.mask.mask(bath, [mapping(point_buffer.iloc[0])], crop=True)\n",
    "    bath_clip = clipped[0]\n",
    "except Exception as e:\n",
    "    print(f\"Raster clip error: {e}\")\n",
    "    bath_clip = None\n",
    "\n",
    "# Plotting and saving the buffer image to use in the write up\n",
    "fig, ax = plt.subplots(figsize=(8, 6))\n",
    "if bath_clip is not None:\n",
    "    ax.imshow(bath_clip, cmap='viridis')\n",
    "    ax.set_title(\"Clipped Bathymetry for Buffer\")\n",
    "else:\n",
    "    ax.set_title(\"No bathymetry available for this buffer\")\n",
    "ax.axis('off')\n",
    "plt.savefig(\"Method_results_images/Buffer_Count_Bathy_Buffer_Visulisation.png\", dpi=150, bbox_inches=\"tight\")\n",
    "plt.show()"
   ]
  },
  {
   "cell_type": "markdown",
   "id": "9797fcb1-2cc9-4042-a70d-a15d85c65177",
   "metadata": {},
   "source": [
    "#### Merging bathymetric results with the roads and buildings results"
   ]
  },
  {
   "cell_type": "code",
   "execution_count": null,
   "id": "d1d62dce-5886-428a-808e-7c7374f3de6f",
   "metadata": {},
   "outputs": [],
   "source": [
    "# Dropping the original column, ignoring the errors when I re-ran the code\n",
    "buffer_metrics = buffer_metrics.drop(columns='Bathymetry mean', errors='ignore')\n",
    "# Joining the buffer data with the buffer_metrics df\n",
    "buffer_metrics = buffer_metrics.merge(\n",
    "    bath_df,\n",
    "    on=['Data', 'Buffer size', 'Point ID'],\n",
    "    how='left')\n"
   ]
  },
  {
   "cell_type": "markdown",
   "id": "aa0905a5-bd62-4c9f-8731-8da6387b0fce",
   "metadata": {},
   "source": [
    "---------------------------"
   ]
  },
  {
   "cell_type": "markdown",
   "id": "5085cdbe-0888-47be-aab2-697f38ac172e",
   "metadata": {},
   "source": [
    "## Checking the results"
   ]
  },
  {
   "cell_type": "code",
   "execution_count": null,
   "id": "4f9283cc-e8d2-45ab-b4ae-467cdbf99d15",
   "metadata": {},
   "outputs": [],
   "source": [
    "# All the columns look good and the data inside makes sense\n",
    "buffer_metrics.sample(5)"
   ]
  },
  {
   "cell_type": "code",
   "execution_count": null,
   "id": "cded45cd-21dd-477b-9ec3-ceeabb6ac4fc",
   "metadata": {},
   "outputs": [],
   "source": [
    "buffer_metrics.info()"
   ]
  },
  {
   "cell_type": "markdown",
   "id": "56141f83-01cf-4016-821c-fccae6883b4e",
   "metadata": {},
   "source": [
    "## Investigating null values"
   ]
  },
  {
   "cell_type": "markdown",
   "id": "139307cb-a172-42f7-acfa-dcaf978bc2e3",
   "metadata": {},
   "source": [
    "#### 25,299 (strandings points) + 25,299 (random points) = 50,598 x 5 (buffers) = 252,990. There are 480 missing bathymetric but I wanted to see how many of these were unique or if they were a single point repeated across the 5 buffers. This is investigated more deeply in Under_reported_areas notebook. It appears missing bathymetric buffers seem to fall on land / intertidal / masked shoreline cells, and it shouldn't be a problem as it's only 480."
   ]
  },
  {
   "cell_type": "code",
   "execution_count": null,
   "id": "37d1f401-dfdb-4445-b281-9f147c8202eb",
   "metadata": {},
   "outputs": [],
   "source": [
    "buffer_metrics[buffer_metrics['Bathymetry mean'].isna()]"
   ]
  },
  {
   "cell_type": "code",
   "execution_count": null,
   "id": "fca8c6f1-f333-4045-9b8f-af718bb50ca8",
   "metadata": {},
   "outputs": [],
   "source": [
    "# Checking the missing bathymetry data\n",
    "# Identifying the missing rows\n",
    "missing = buffer_metrics[buffer_metrics['Bathymetry mean'].isna()].copy()\n",
    "\n",
    "if missing['Buffer size'].dtype == object:\n",
    "    missing['buffer_m'] = (\n",
    "        missing['Buffer size']\n",
    "        .astype(str).str.replace('m', '', regex=False)\n",
    "        .astype('Int64'))\n",
    "else:\n",
    "    missing['buffer_m'] = missing['Buffer size']\n",
    "\n",
    "# showing a quick summary\n",
    "total_missing = len(missing)\n",
    "unique_points_missing = missing['Point ID'].nunique()\n",
    "counts_per_point = missing.groupby('Point ID').size().rename('missing_rows')\n",
    "n_per_point_distribution = counts_per_point.value_counts().sort_index()\n",
    "\n",
    "# Checking 5 buffers per point:\n",
    "EXPECTED_PER_POINT = 5\n",
    "all_are_five = (counts_per_point == EXPECTED_PER_POINT).all()\n",
    "\n",
    "print(\"=== Missing Bathymetry Summary ===\")\n",
    "print(f\"Total missing rows: {total_missing}\")\n",
    "print(f\"Unique Point IDs with missing bathy: {unique_points_missing}\")\n",
    "print(\"\\nCounts of missing rows per Point ID:\")\n",
    "print(n_per_point_distribution)\n",
    "print(f\"\\nAll affected points have exactly {EXPECTED_PER_POINT} missing rows? {all_are_five}\")\n",
    "\n",
    "# How many missing rows per buffer size\n",
    "counts_by_buffer = (\n",
    "    missing\n",
    "    .dropna(subset=['buffer_m'])\n",
    "    .groupby('buffer_m')\n",
    "    .size()\n",
    "    .sort_index())\n",
    "\n",
    "print(\"\\n=== Missing rows by buffer size ===\")\n",
    "for buf_m, n in counts_by_buffer.items():\n",
    "    print(f\"Buffer {int(buf_m)}m has {n} missing rows\")\n",
    "\n",
    "\n",
    "# Creating a table of affected Point IDs (one row per point)\n",
    "affected_points = (\n",
    "    missing\n",
    "    .sort_values(['Data', 'Point ID', 'buffer_m'])\n",
    "    .groupby(['Data', 'Point ID'])\n",
    "    .agg(\n",
    "        missing_rows=('Buffer size', 'size'),\n",
    "        missing_buffers=('Buffer size', lambda s: ', '.join(map(str, sorted(s, key=lambda x: int(str(x).replace(\"m\",\"\"))))))\n",
    "    )\n",
    "    .reset_index())\n",
    "\n",
    "print(\"\\n=== Affected Point IDs (one row per point) ===\")\n",
    "display(affected_points.head(5)) \n",
    "\n",
    "# Detailed table of every missing row (handy for auditing)\n",
    "missing_details = (\n",
    "    missing[['Data', 'Point ID', 'Buffer size', 'buffer_m']]\n",
    "    .sort_values(['Data', 'Point ID', 'buffer_m'])\n",
    "    .reset_index(drop=True))\n",
    "\n",
    "print(\"\\n=== Detailed Missing Rows ===\")\n",
    "display(missing_details.sample(5)) "
   ]
  },
  {
   "cell_type": "code",
   "execution_count": null,
   "id": "8f7d0aab-9124-47fb-a14e-7b17109fd3eb",
   "metadata": {},
   "outputs": [],
   "source": [
    "buffer_metrics.describe()"
   ]
  },
  {
   "cell_type": "markdown",
   "id": "519cbec6-81ef-4ad0-beb9-ead1b65f0214",
   "metadata": {},
   "source": [
    "#### Saving the DataFrame"
   ]
  },
  {
   "cell_type": "code",
   "execution_count": null,
   "id": "28bd89ea-217d-4d7c-afa0-4b2bc7203088",
   "metadata": {},
   "outputs": [],
   "source": [
    "# #creating a new df\n",
    "# buffer_metrics = buffer_metrics.copy()\n",
    "\n",
    "# # Saving to CSV\n",
    "# buffer_metrics.to_csv('buffer_metrics.csv', index=False)\n",
    "\n",
    "# # Display download link\n",
    "# FileLink('buffer_metrics.csv')"
   ]
  },
  {
   "cell_type": "markdown",
   "id": "f2d50a96-6de7-4968-84c5-6c6c192ad32f",
   "metadata": {},
   "source": [
    "-------------------------"
   ]
  },
  {
   "cell_type": "markdown",
   "id": "c6c1c590-336e-4aab-a414-da5cd3a8ea18",
   "metadata": {},
   "source": [
    "# Adding in latitude and longtitude"
   ]
  },
  {
   "cell_type": "code",
   "execution_count": null,
   "id": "63387b11-e911-454d-a481-437ed1578d9f",
   "metadata": {},
   "outputs": [],
   "source": [
    "# Reloading the buffer metrics so I don't have to run buffer count every time\n",
    "buffer_metrics = gpd.read_file(\"buffer_metrics.csv\")"
   ]
  },
  {
   "cell_type": "code",
   "execution_count": null,
   "id": "f7821de5-7ed6-4cbb-957a-4f75a3221af8",
   "metadata": {},
   "outputs": [],
   "source": [
    "buffer_metrics.head()"
   ]
  },
  {
   "cell_type": "markdown",
   "id": "60aa304a-839d-458b-856b-0c8e7bf087b3",
   "metadata": {},
   "source": [
    "#### I had some trouble merging the lat long back from the clean_strandings df so I have recalculated them from the buffer instead."
   ]
  },
  {
   "cell_type": "code",
   "execution_count": null,
   "id": "6e90bed7-0803-4c43-b041-2e750e670b89",
   "metadata": {},
   "outputs": [],
   "source": [
    "# Parse WKT → Shapely\n",
    "buffer_metrics['Buffer geometry'] = buffer_metrics['Buffer geometry'].apply(wkt.loads)\n",
    "\n",
    "# Making a gdf with crs\n",
    "gdf = gpd.GeoDataFrame(buffer_metrics, geometry='Buffer geometry', crs=\"EPSG:27700\")\n",
    "\n",
    "# Getting the centroids and projecting them to WGS84\n",
    "centroids = gdf.geometry.centroid\n",
    "centroids_ll = gpd.GeoSeries(centroids, crs=gdf.crs).to_crs(4326)\n",
    "\n",
    "# Writing the longitude/latitude columns\n",
    "gdf['longitude'] = centroids_ll.x\n",
    "gdf['latitude']  = centroids_ll.y\n",
    "\n",
    "# Keeping the variable name\n",
    "buffer_metrics_lat_long = gdf"
   ]
  },
  {
   "cell_type": "code",
   "execution_count": null,
   "id": "e1f29721-4d02-41fd-a8e4-112f849c0c5f",
   "metadata": {},
   "outputs": [],
   "source": [
    "buffer_metrics.sample(10)"
   ]
  },
  {
   "cell_type": "code",
   "execution_count": null,
   "id": "96868587-bb23-49ba-88b4-71e4b1bf42c8",
   "metadata": {},
   "outputs": [],
   "source": [
    "# Checking the data, lat long should be the same and the count should increase with the buffer size\n",
    "strand_point_id = buffer_metrics_lat_long.loc[buffer_metrics_lat_long['Data'] == 'Strandings points', 'Point ID'].iloc[2]\n",
    "rand_point_id   = buffer_metrics_lat_long.loc[buffer_metrics_lat_long['Data'] == 'Random points', 'Point ID'].iloc[2]\n",
    "\n",
    "def get_buffers_for_point(point_id, category):\n",
    "    return (buffer_metrics_lat_long[\n",
    "                (buffer_metrics_lat_long['Point ID'] == point_id) &\n",
    "                (buffer_metrics_lat_long['Data'] == category)]\n",
    "            .sort_values('Buffer size', key=lambda s: s.str.replace('m', '').astype(int))\n",
    "            [['Data', 'latitude', 'longitude', 'Buffer size', 'Other points', 'Road length', 'Building count', 'Bathymetry mean']])\n",
    "\n",
    "# Creating 2 seperate tables for a stranding point adn a random point\n",
    "strand_table_lat_long = get_buffers_for_point(strand_point_id, 'Strandings points')\n",
    "rand_table_lat_long   = get_buffers_for_point(rand_point_id, 'Random points')\n",
    "\n",
    "# Displaying the tables\n",
    "print(\" Strandings point:\")\n",
    "display(strand_table_lat_long)\n",
    "\n",
    "print(\"\\n Random point:\")\n",
    "display(rand_table_lat_long)"
   ]
  },
  {
   "cell_type": "code",
   "execution_count": null,
   "id": "70c6c923-b62c-41e8-9fd2-09e304eb0369",
   "metadata": {},
   "outputs": [],
   "source": [
    "# Save each table as HTML for the write up\n",
    "strand_table_lat_long.to_html(\n",
    "    \"Method_results_images/Buffer_Count_Strandings_Point_Buffer_Check_lat_long_Table.html\",\n",
    "    index=False)\n",
    "\n",
    "rand_table_lat_long.to_html(\n",
    "    \"Method_results_images/Buffer_Count_Random_Point_Buffer_Check_lat_long_Table.html\",\n",
    "    index=False)"
   ]
  },
  {
   "cell_type": "code",
   "execution_count": null,
   "id": "e0348901-8e5f-496b-ab0e-e9981423ef4c",
   "metadata": {},
   "outputs": [],
   "source": [
    "# #creating a new df\n",
    "# buffer_metrics_lat_long = buffer_metrics_lat_long.copy()\n",
    "\n",
    "# # Saving to CSV\n",
    "# buffer_metrics_lat_long.to_csv('buffer_metrics_lat_long.csv', index=False)\n",
    "\n",
    "# # Display download link\n",
    "# FileLink('buffer_metrics_lat_long.csv')"
   ]
  },
  {
   "cell_type": "markdown",
   "id": "612c7558-93f2-4140-984c-77feebc8fda1",
   "metadata": {},
   "source": [
    "# Continues in 2.T-test notebook"
   ]
  }
 ],
 "metadata": {
  "kernelspec": {
   "display_name": "Python 3 (ipykernel)",
   "language": "python",
   "name": "python3"
  },
  "language_info": {
   "codemirror_mode": {
    "name": "ipython",
    "version": 3
   },
   "file_extension": ".py",
   "mimetype": "text/x-python",
   "name": "python",
   "nbconvert_exporter": "python",
   "pygments_lexer": "ipython3",
   "version": "3.11.7"
  }
 },
 "nbformat": 4,
 "nbformat_minor": 5
}
