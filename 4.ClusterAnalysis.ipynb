{
 "cells": [
  {
   "cell_type": "markdown",
   "id": "9ef8aac0-f9f8-469c-afab-fad56fa956a0",
   "metadata": {
    "id": "9ef8aac0-f9f8-469c-afab-fad56fa956a0"
   },
   "source": [
    "#  <u>Exploring clusters in 500m buffers with KMeans</u> - clean and running"
   ]
  },
  {
   "cell_type": "code",
   "execution_count": null,
   "id": "d867d7ba-d8ea-4113-84e1-d6a66e6c93e8",
   "metadata": {
    "id": "d867d7ba-d8ea-4113-84e1-d6a66e6c93e8",
    "outputId": "cbb4bd95-9111-4431-c1a5-b306da53594d"
   },
   "outputs": [],
   "source": [
    "!pip install yellowbrick"
   ]
  },
  {
   "cell_type": "code",
   "execution_count": null,
   "id": "aa4c867d-5821-4791-b8de-c2eaa8c71100",
   "metadata": {
    "id": "aa4c867d-5821-4791-b8de-c2eaa8c71100"
   },
   "outputs": [],
   "source": [
    "# Importing Python packages and modules\n",
    "import pandas as pd\n",
    "import geopandas as gpd\n",
    "import seaborn as sns\n",
    "import matplotlib.pyplot as plt\n",
    "import numpy as np\n",
    "import folium\n",
    "import warnings\n",
    "import os\n",
    "from yellowbrick.cluster import KElbowVisualizer\n",
    "from sklearn.cluster import MiniBatchKMeans\n",
    "from sklearn.decomposition import PCA\n",
    "from sklearn.preprocessing import RobustScaler\n",
    "from sklearn.cluster import KMeans\n",
    "from matplotlib import colors\n"
   ]
  },
  {
   "cell_type": "code",
   "execution_count": null,
   "id": "51d36fcd-c68e-497a-90ac-717712245ce8",
   "metadata": {
    "id": "51d36fcd-c68e-497a-90ac-717712245ce8"
   },
   "outputs": [],
   "source": [
    "# Buffer count with lat and long\n",
    "buffer_metrics_lat_long = gpd.read_file(\"buffer_metrics_lat_long.csv\")"
   ]
  },
  {
   "cell_type": "markdown",
   "id": "8e04951b-e866-4f7b-aa0f-2681ff5a8f1f",
   "metadata": {
    "id": "8e04951b-e866-4f7b-aa0f-2681ff5a8f1f"
   },
   "source": [
    "#### Exploring the buffer metrics"
   ]
  },
  {
   "cell_type": "code",
   "execution_count": null,
   "id": "2c16f22d-6e38-4fa6-9f2a-d0ea5cf8a1dd",
   "metadata": {
    "id": "2c16f22d-6e38-4fa6-9f2a-d0ea5cf8a1dd",
    "outputId": "e74280e6-08ae-4862-964d-4ae580332c66"
   },
   "outputs": [],
   "source": [
    "#Checking buffer sizes and random and strandings points\n",
    "buffer_metrics_lat_long.sample(10)"
   ]
  },
  {
   "cell_type": "code",
   "execution_count": null,
   "id": "eb6a2589-4adb-4e2c-8233-4cdfa8394b0b",
   "metadata": {
    "id": "eb6a2589-4adb-4e2c-8233-4cdfa8394b0b",
    "outputId": "1dbc5641-61dd-4334-db5d-0bf66c602c71"
   },
   "outputs": [],
   "source": [
    "buffer_metrics_lat_long.info()\n",
    "buffer_metrics_lat_long.describe()"
   ]
  },
  {
   "cell_type": "markdown",
   "id": "349fb185-f33c-4d28-b186-68118dd27ba7",
   "metadata": {
    "id": "349fb185-f33c-4d28-b186-68118dd27ba7"
   },
   "source": [
    "## Looking at 500m buffer with strandings only\n",
    "#### See 500m Buffer exploration notebook for why 500m buffer"
   ]
  },
  {
   "cell_type": "code",
   "execution_count": null,
   "id": "6f1b2942-e33c-4321-a6f0-0a16deb6f5d3",
   "metadata": {
    "id": "6f1b2942-e33c-4321-a6f0-0a16deb6f5d3"
   },
   "outputs": [],
   "source": [
    "# Filtering for 500m and strandings points only\n",
    "buffer_metrics_500 = buffer_metrics_lat_long[\n",
    "    (buffer_metrics_lat_long['Data'] != 'Random points') &\n",
    "    (buffer_metrics_lat_long['Buffer size'] == \"500m\")].copy()"
   ]
  },
  {
   "cell_type": "code",
   "execution_count": null,
   "id": "dbc4509d-6d3c-4c40-adb5-bc41d51e9cac",
   "metadata": {
    "id": "dbc4509d-6d3c-4c40-adb5-bc41d51e9cac",
    "outputId": "16690459-db1a-4ae3-b773-560cb8fa17c4"
   },
   "outputs": [],
   "source": [
    "#Checking it's filtered\n",
    "buffer_metrics_500.sample(10)"
   ]
  },
  {
   "cell_type": "code",
   "execution_count": null,
   "id": "51b5c68e-7495-4085-b93e-6222c78ffab3",
   "metadata": {
    "id": "51b5c68e-7495-4085-b93e-6222c78ffab3",
    "outputId": "51fb4c47-0b71-4273-a6cc-8ef518851e5d"
   },
   "outputs": [],
   "source": [
    "#Checking for nulls\n",
    "buffer_metrics_500.info()\n",
    "#Checking unique buffer size and data both equal 1\n",
    "buffer_metrics_500.describe()"
   ]
  },
  {
   "cell_type": "code",
   "execution_count": null,
   "id": "34ff6023-274d-4e35-b601-fd0754006149",
   "metadata": {
    "id": "34ff6023-274d-4e35-b601-fd0754006149"
   },
   "outputs": [],
   "source": [
    "# Converting necessary columns to numeric\n",
    "buffer_metrics_500['latitude'] = pd.to_numeric(buffer_metrics_500['latitude'], errors='coerce')\n",
    "buffer_metrics_500['longitude'] = pd.to_numeric(buffer_metrics_500['longitude'], errors='coerce')\n",
    "buffer_metrics_500['Road length'] = pd.to_numeric(buffer_metrics_500['Road length'], errors='coerce')\n",
    "buffer_metrics_500['Building count'] = pd.to_numeric(buffer_metrics_500['Building count'], errors='coerce')\n",
    "buffer_metrics_500['Bathymetry mean'] = pd.to_numeric(buffer_metrics_500['Bathymetry mean'], errors='coerce')\n",
    "buffer_metrics_500['Other points'] = pd.to_numeric(buffer_metrics_500['Other points'], errors='coerce')"
   ]
  },
  {
   "cell_type": "markdown",
   "id": "fdf10808-5bb8-4476-83bb-e5e2ffbc8eac",
   "metadata": {
    "id": "fdf10808-5bb8-4476-83bb-e5e2ffbc8eac"
   },
   "source": [
    "----------------------------------------------------------------------------------------------------------------------------"
   ]
  },
  {
   "cell_type": "markdown",
   "id": "3f363f67-b964-4e79-babc-3906cad2ff81",
   "metadata": {
    "id": "3f363f67-b964-4e79-babc-3906cad2ff81"
   },
   "source": [
    "#### Log-transfrom"
   ]
  },
  {
   "cell_type": "code",
   "execution_count": null,
   "id": "c7a96084-8e44-49af-9d15-6d6954090f9a",
   "metadata": {
    "id": "c7a96084-8e44-49af-9d15-6d6954090f9a"
   },
   "outputs": [],
   "source": [
    "#creating a copy of buffer_metrics\n",
    "df_log = buffer_metrics_500.copy()"
   ]
  },
  {
   "cell_type": "code",
   "execution_count": null,
   "id": "850c2978-576e-4f5f-acc1-97e88b3dca53",
   "metadata": {
    "id": "850c2978-576e-4f5f-acc1-97e88b3dca53"
   },
   "outputs": [],
   "source": [
    "#Log-transforming building count and road lenght to reduce skewness\n",
    "df_log['Building_trans'] = np.log1p(df_log['Building count'])\n",
    "df_log['Road_trans'] = np.log1p(df_log['Road length'])\n",
    "df_log['Bathymetry_trans'] = np.log1p(df_log['Bathymetry mean'])\n",
    "df_log['Other_points_trans'] = np.log1p(df_log['Other points'])"
   ]
  },
  {
   "cell_type": "markdown",
   "id": "decb3d66-0525-4820-93c7-8b482a46842e",
   "metadata": {
    "id": "decb3d66-0525-4820-93c7-8b482a46842e"
   },
   "source": [
    "#### Scale Features"
   ]
  },
  {
   "cell_type": "markdown",
   "id": "9PBAkTLJiQJa",
   "metadata": {
    "id": "9PBAkTLJiQJa"
   },
   "source": [
    "#### I chose to use Robust Scaler because it handles outliers well while keeping scale consistency."
   ]
  },
  {
   "cell_type": "code",
   "execution_count": null,
   "id": "3d7d5587-becd-4667-b014-63ebf42e2675",
   "metadata": {
    "id": "3d7d5587-becd-4667-b014-63ebf42e2675"
   },
   "outputs": [],
   "source": [
    "# Convert the ndarray back to a pandas DataFrame\n",
    "df_log = pd.DataFrame(df_log, columns=['Building_trans', 'Road_trans', 'Bathymetry_trans', 'Other_points_trans', 'latitude', 'longitude'])\n",
    "\n",
    "# Now, you can scale the features\n",
    "features_to_scale = ['Building_trans', 'Road_trans', 'Bathymetry_trans', 'Other_points_trans', 'latitude', 'longitude']\n",
    "scaler = RobustScaler()\n",
    "df_log[features_to_scale] = scaler.fit_transform(df_log[features_to_scale])"
   ]
  },
  {
   "cell_type": "code",
   "execution_count": null,
   "id": "8700acca-45d4-4661-b3a2-73f7d20c64af",
   "metadata": {
    "id": "8700acca-45d4-4661-b3a2-73f7d20c64af",
    "outputId": "64691fb1-2953-4efa-d114-c4754d506561"
   },
   "outputs": [],
   "source": [
    "df_log.head()"
   ]
  },
  {
   "cell_type": "code",
   "execution_count": null,
   "id": "1e6774de-fa64-4d8d-bdf5-4408ed060d5e",
   "metadata": {
    "id": "1e6774de-fa64-4d8d-bdf5-4408ed060d5e"
   },
   "outputs": [],
   "source": [
    "# Merging the log-transformed and scaled columns back into the orgainal DataFrame\n",
    "cols_to_add = ['Data', 'Buffer size', 'Point ID', 'Other points', 'Road length', 'Building count', 'Bathymetry mean']\n",
    "\n",
    "df_log = pd.concat(\n",
    "    [buffer_metrics_500[cols_to_add].reset_index(drop=True),\n",
    "        df_log.reset_index(drop=True)],\n",
    "    axis=1)\n"
   ]
  },
  {
   "cell_type": "code",
   "execution_count": null,
   "id": "e3156d70-0ead-4c74-a94c-960e6a761f1c",
   "metadata": {
    "id": "e3156d70-0ead-4c74-a94c-960e6a761f1c",
    "outputId": "806ecd6b-1cdc-45d1-b24f-9de5ff109fb1"
   },
   "outputs": [],
   "source": [
    "df_log.sample(10)"
   ]
  },
  {
   "cell_type": "code",
   "execution_count": null,
   "id": "23288c44-355e-4a93-a513-7a2e8394881f",
   "metadata": {
    "id": "23288c44-355e-4a93-a513-7a2e8394881f",
    "outputId": "5be05c62-4aff-45c6-9370-5c0744390fa2"
   },
   "outputs": [],
   "source": [
    "df_log.shape\n",
    "df_log.info()"
   ]
  },
  {
   "cell_type": "code",
   "execution_count": null,
   "id": "f49569cb-864d-4114-a7d6-46b6283623a5",
   "metadata": {
    "id": "f49569cb-864d-4114-a7d6-46b6283623a5",
    "outputId": "205e2dd4-fd6a-4d6a-a5c8-58d99c286a95"
   },
   "outputs": [],
   "source": [
    "df_log.describe()"
   ]
  },
  {
   "cell_type": "markdown",
   "id": "f5360764-d22c-4dbe-be0f-6c6312d227d6",
   "metadata": {
    "id": "f5360764-d22c-4dbe-be0f-6c6312d227d6"
   },
   "source": [
    "-------------------------------------------------------------------------------------------------------------------------------------------------------"
   ]
  },
  {
   "cell_type": "markdown",
   "id": "4fb4ae94-9cca-4f96-a882-6f9218cc8d1d",
   "metadata": {
    "id": "4fb4ae94-9cca-4f96-a882-6f9218cc8d1d"
   },
   "source": [
    "# KElbowVisualizer"
   ]
  },
  {
   "cell_type": "code",
   "execution_count": null,
   "id": "005b5334-9135-4983-a4f4-aa78f7c1007b",
   "metadata": {
    "id": "005b5334-9135-4983-a4f4-aa78f7c1007b",
    "outputId": "c431e7c0-5674-4520-a182-1a837d1a760b"
   },
   "outputs": [],
   "source": [
    "#Surpressing memory warnings\n",
    "warnings.filterwarnings(\"ignore\", message=\".*KMeans is known to have a memory leak.*\")\n",
    "\n",
    "# KMeans ++ , random state = 0 to ensure reproducibility, running 10 times\n",
    "model = KMeans(init='k-means++', random_state=0, n_init=10)\n",
    "#Setting Elbow Vi\n",
    "visualizer = KElbowVisualizer(model, k=(1, 12))\n",
    "X = df_log[['Building_trans', 'Road_trans', 'Bathymetry_trans', 'Other_points_trans', 'latitude', 'longitude']].dropna()\n",
    "#Fitting teh visulizer\n",
    "visualizer.fit(X)\n",
    "#Showing the plot\n",
    "plt.savefig(\"Method_results_images/K_Means_KelbowVisualizer.png\", dpi=150, bbox_inches=\"tight\")\n",
    "visualizer.show()\n"
   ]
  },
  {
   "cell_type": "markdown",
   "id": "5eb08e14-39e5-4f4f-b407-755441618e56",
   "metadata": {
    "id": "5eb08e14-39e5-4f4f-b407-755441618e56"
   },
   "source": [
    "#### Elbow point at k=4, with a distortion score of 1896.828"
   ]
  },
  {
   "cell_type": "code",
   "execution_count": null,
   "id": "d59270e7-2f84-47ee-a6a7-5804abc38fca",
   "metadata": {
    "id": "d59270e7-2f84-47ee-a6a7-5804abc38fca",
    "outputId": "323c3105-f3ef-4a56-eae9-764cd9a29771"
   },
   "outputs": [],
   "source": [
    "print(X.isna().sum())"
   ]
  },
  {
   "cell_type": "markdown",
   "id": "47c666cf-6d33-440a-a455-71c8f3a89f4f",
   "metadata": {
    "id": "47c666cf-6d33-440a-a455-71c8f3a89f4f"
   },
   "source": [
    "-------------------------------------------------------------------------------------------------------------------------------------------------------"
   ]
  },
  {
   "cell_type": "markdown",
   "id": "be6acfad-0cd5-4da4-883a-de1fa0a50f23",
   "metadata": {
    "id": "be6acfad-0cd5-4da4-883a-de1fa0a50f23"
   },
   "source": [
    "# Mini Batch KMeans"
   ]
  },
  {
   "cell_type": "code",
   "execution_count": null,
   "id": "b1b811f7-7ee4-4107-a7d0-e1c6d3c8ad97",
   "metadata": {
    "id": "b1b811f7-7ee4-4107-a7d0-e1c6d3c8ad97",
    "outputId": "c6c66411-8394-4193-80d5-04d5d7f63c3e"
   },
   "outputs": [],
   "source": [
    "# Use k=4 based on Elbow\n",
    "kmeans = MiniBatchKMeans(n_clusters=4, random_state=42)\n",
    "df_log_clean = df_log.dropna(subset=['Building_trans', 'Road_trans', 'Bathymetry_trans', 'Other_points_trans', 'latitude', 'longitude']).copy()\n",
    "df_log_clean['cluster'] = kmeans.fit_predict(X)\n",
    "\n",
    "# Preview the result\n",
    "df_log_clean.head()"
   ]
  },
  {
   "cell_type": "markdown",
   "id": "a7a5a3b9-cc8f-40e8-b5be-d1a836e6a84f",
   "metadata": {
    "id": "a7a5a3b9-cc8f-40e8-b5be-d1a836e6a84f"
   },
   "source": [
    "--------------------------------------------------------------------------------------------------------------------------------------------------------"
   ]
  },
  {
   "cell_type": "markdown",
   "id": "7e404a88-6c08-4a1b-85c5-9c42df1e0469",
   "metadata": {
    "id": "7e404a88-6c08-4a1b-85c5-9c42df1e0469"
   },
   "source": [
    "# Investigating the 500m buffer clusters"
   ]
  },
  {
   "cell_type": "code",
   "execution_count": null,
   "id": "a0a8ed89-d56e-424b-8093-df715afdb16c",
   "metadata": {
    "id": "a0a8ed89-d56e-424b-8093-df715afdb16c",
    "outputId": "b3eb80ac-a277-43a5-9ba9-590997f5d768"
   },
   "outputs": [],
   "source": [
    "df_log_clean['cluster'].unique()"
   ]
  },
  {
   "cell_type": "markdown",
   "id": "7909e64a-8980-4d14-b56c-20f3ed6548e3",
   "metadata": {
    "id": "7909e64a-8980-4d14-b56c-20f3ed6548e3"
   },
   "source": [
    "#### Checking cluster size"
   ]
  },
  {
   "cell_type": "code",
   "execution_count": null,
   "id": "f49eaa8d-5714-44ef-a453-f483202a1298",
   "metadata": {
    "id": "f49eaa8d-5714-44ef-a453-f483202a1298",
    "outputId": "2d053dc4-19e9-4491-9918-60ca2f0a0b6f"
   },
   "outputs": [],
   "source": [
    "df_log_clean['cluster'].value_counts()"
   ]
  },
  {
   "cell_type": "markdown",
   "id": "b64cdbd0-0650-44a9-af71-b00a0161c257",
   "metadata": {
    "id": "b64cdbd0-0650-44a9-af71-b00a0161c257"
   },
   "source": [
    "#### Comparing cluster means"
   ]
  },
  {
   "cell_type": "code",
   "execution_count": null,
   "id": "6eb46ea2-5f1f-4fb2-83ba-0aa21829d372",
   "metadata": {
    "id": "6eb46ea2-5f1f-4fb2-83ba-0aa21829d372",
    "outputId": "c49adf9e-f729-47a1-c415-c9b1314b23d6"
   },
   "outputs": [],
   "source": [
    "# Compute means + count per cluster\n",
    "cluster_table = (\n",
    "    df_log_clean\n",
    "      .groupby('cluster')\n",
    "      .agg(\n",
    "          n=('cluster', 'size'),\n",
    "          **{\n",
    "            'Building count': ('Building count', 'mean'),\n",
    "            'Road length': ('Road length', 'mean'),\n",
    "            'Bathymetry mean': ('Bathymetry mean', 'mean'),\n",
    "            'Other points': ('Other points', 'mean'),})\n",
    "      .sort_index()\n",
    "      .round(2))\n",
    "\n",
    "display(cluster_table)\n",
    "\n",
    "# Saving\n",
    "#os.makedirs(\"Method_results_images\", exist_ok=True)\n",
    "\n",
    "cluster_table.to_html(\"Method_results_images/K_Means_Cluster_Breakdown_Table.html\", float_format=\"%.2f\")\n"
   ]
  },
  {
   "cell_type": "markdown",
   "id": "329a6a0f-19a5-4af2-aa61-446cef8da1a9",
   "metadata": {
    "id": "329a6a0f-19a5-4af2-aa61-446cef8da1a9"
   },
   "source": [
    "#### Smallest cluster is lowest building and the lowest amount of roads with only 1155 records, while the other 3 clusters show evidence of some urbanisation in the area, roads or buildings.\n",
    "\n",
    "| Cluster | Summary                                                                                                                                                                                                |\n",
    "| ------- | ------------------------------------------------------------------------------------------------------------------------------------------------------------------------------------------------------ |\n",
    "| **0**   | **Moderate human presence & road length**, high bathymetry mean (\\~23.6), many other points. Possibly **semi-developed coastal** areas with decent road access and moderate depth.                     |\n",
    "| **1**   | **Almost no buildings/roads**, moderate bathymetry (\\~13.8), very low “other points”. Likely **remote/natural** areas with minimal human influence.                                                    |\n",
    "| **2**   | **High human presence (buildings & roads)**, shallow bathymetry (\\~9.8), moderate “other points”. This looks like **urbanised, shallow-water** areas — possibly harbours or nearshore urban stretches. |\n",
    "| **3**   | **Low-moderate human presence**, moderate roads, bathymetry (\\~14.8). Could be **suburban/coastal mixed-use** areas.                                                                                   |\n"
   ]
  },
  {
   "cell_type": "markdown",
   "id": "4eb92288-f26a-4975-8d77-4f6ad34ce73f",
   "metadata": {
    "id": "4eb92288-f26a-4975-8d77-4f6ad34ce73f"
   },
   "source": [
    "-------------------------"
   ]
  },
  {
   "cell_type": "markdown",
   "id": "4847948c-67ae-42a1-9780-6b9476890863",
   "metadata": {
    "id": "4847948c-67ae-42a1-9780-6b9476890863"
   },
   "source": [
    "## Visulising feature distribution per cluster"
   ]
  },
  {
   "cell_type": "code",
   "execution_count": null,
   "id": "57f86ff2-f37a-4fcb-a1e7-af9a5cd8fc88",
   "metadata": {
    "id": "57f86ff2-f37a-4fcb-a1e7-af9a5cd8fc88",
    "outputId": "71ad78e3-08b0-4a7b-bb7c-b31d5914fed5"
   },
   "outputs": [],
   "source": [
    "import matplotlib.pyplot as plt\n",
    "\n",
    "# Variables to include\n",
    "vars_to_plot = [\"Building count\", \"Road length\", \"Bathymetry mean\", \"Other points\"]\n",
    "\n",
    "# Copy your data and normalise rows to sum to 1\n",
    "norm_df = cluster_table[vars_to_plot].div(cluster_table[vars_to_plot].sum(axis=1), axis=0)\n",
    "\n",
    "# Plot\n",
    "fig, ax = plt.subplots(figsize=(8, 5))\n",
    "bottom = np.zeros(len(norm_df))\n",
    "\n",
    "for col in vars_to_plot:\n",
    "    ax.bar(norm_df.index.astype(str), norm_df[col], bottom=bottom, label=col)\n",
    "    bottom += norm_df[col].values\n",
    "\n",
    "ax.set_ylabel(\"Proportion of total\")\n",
    "ax.set_xlabel(\"Cluster\")\n",
    "ax.set_title(\"Normalised composition of each cluster\")\n",
    "ax.legend(loc=\"upper right\", bbox_to_anchor=(1.3, 1))\n",
    "plt.tight_layout()\n",
    "plt.savefig(\"Method_results_images/K_Means_Cluster_Stacked_Barchart.png\", dpi=150, bbox_inches=\"tight\")\n",
    "plt.show()\n"
   ]
  },
  {
   "cell_type": "code",
   "execution_count": null,
   "id": "a115f8fc-056b-4a93-a796-0a4c307997e4",
   "metadata": {
    "id": "a115f8fc-056b-4a93-a796-0a4c307997e4",
    "outputId": "5f70bfbf-c868-49c7-ff0d-2d77f5c145d3"
   },
   "outputs": [],
   "source": [
    "vars_to_plot = [\"Building count\", \"Road length\", \"Bathymetry mean\", \"Other points\"]\n",
    "radar_df = cluster_table.sort_index()[vars_to_plot].copy()\n",
    "\n",
    "# Min–max scale per variable so shapes are comparable\n",
    "radar_scaled = (radar_df - radar_df.min()) / (radar_df.max() - radar_df.min())\n",
    "radar_scaled = radar_scaled.fillna(0.0)\n",
    "\n",
    "# Radar setup\n",
    "labels = vars_to_plot\n",
    "num_vars = len(labels)\n",
    "angles = np.linspace(0, 2*np.pi, num_vars, endpoint=False)\n",
    "angles = np.concatenate([angles, angles[:1]])  # close the loop\n",
    "\n",
    "plt.figure(figsize=(7, 7))\n",
    "ax = plt.subplot(111, polar=True)\n",
    "\n",
    "for clust, row in radar_scaled.iterrows():\n",
    "    values = row.values\n",
    "    values = np.concatenate([values, values[:1]])  # close the loop\n",
    "    ax.plot(angles, values, linewidth=2, label=f\"Cluster {clust}\")\n",
    "    ax.fill(angles, values, alpha=0.1)\n",
    "\n",
    "ax.set_xticks(angles[:-1])\n",
    "ax.set_xticklabels(labels)\n",
    "ax.set_yticks([0.0, 0.5, 1.0])\n",
    "ax.set_yticklabels([\"0\", \"0.5\", \"1.0\"])\n",
    "ax.set_ylim(0, 1)\n",
    "ax.set_title(\"Cluster profiles (min–max scaled)\")\n",
    "ax.legend(loc=\"upper right\", bbox_to_anchor=(1.25, 1.1))\n",
    "plt.tight_layout()\n",
    "# Optional: save\n",
    "plt.savefig(\"Method_results_images/K_Means_Cluster_Radar_Chart.png\", dpi=150, bbox_inches=\"tight\")\n",
    "plt.show()\n"
   ]
  },
  {
   "cell_type": "code",
   "execution_count": null,
   "id": "b13bbffd-e5e5-481b-b5f3-7ee87d1b79a5",
   "metadata": {
    "id": "b13bbffd-e5e5-481b-b5f3-7ee87d1b79a5",
    "outputId": "cd28bc69-a0eb-4908-f9c7-06276e6d4a1f"
   },
   "outputs": [],
   "source": [
    "vars_to_plot = [\"Building count\",\"Road length\",\"Bathymetry mean\",\"Other points\"]\n",
    "Z = (cluster_table[vars_to_plot] - cluster_table[vars_to_plot].mean())/cluster_table[vars_to_plot].std()\n",
    "plt.imshow(Z.values, aspect=\"auto\")\n",
    "plt.yticks(range(len(Z)), [f\"Cluster {i}\" for i in Z.index])\n",
    "plt.xticks(range(len(vars_to_plot)), vars_to_plot, rotation=45)\n",
    "plt.colorbar(label=\"z-score\"); plt.title(\"Cluster feature heatmap\");\n",
    "plt.tight_layout();\n",
    "plt.savefig(\"Method_results_images/K_Means_Cluster_Feature_Heatmap.png\", dpi=150, bbox_inches=\"tight\")\n",
    "plt.show()\n",
    "\n",
    "\n"
   ]
  },
  {
   "cell_type": "markdown",
   "id": "66ca498f-3555-41af-9d17-476e327f6a37",
   "metadata": {
    "id": "66ca498f-3555-41af-9d17-476e327f6a37"
   },
   "source": [
    "--------------------"
   ]
  },
  {
   "cell_type": "markdown",
   "id": "6d5217aa-07ca-4525-b700-cea643c5a1bd",
   "metadata": {
    "id": "6d5217aa-07ca-4525-b700-cea643c5a1bd"
   },
   "source": [
    "## Mapping clusters"
   ]
  },
  {
   "cell_type": "code",
   "execution_count": null,
   "id": "bc0e7af2-4626-4a3e-b13a-ebc9020fa10a",
   "metadata": {
    "id": "bc0e7af2-4626-4a3e-b13a-ebc9020fa10a",
    "outputId": "89310fdd-2a66-4837-c640-73787f49b4ab"
   },
   "outputs": [],
   "source": [
    "plt.figure(figsize=(8, 8))  \n",
    "sns.scatterplot(\n",
    "    data=df_log_clean,\n",
    "    x='longitude',\n",
    "    y='latitude',\n",
    "    hue='cluster',\n",
    "    palette='Set2')\n",
    "plt.title(\"Cluster Locations\")\n",
    "plt.gca().set_aspect('equal', adjustable='box')\n",
    "plt.savefig(\"Method_results_images/K_Means_cluser_map.png\", dpi=150, bbox_inches=\"tight\")\n",
    "plt.show()\n"
   ]
  },
  {
   "cell_type": "code",
   "execution_count": null,
   "id": "739ed904-fae3-49b4-a2ed-8c33b6547d72",
   "metadata": {
    "id": "739ed904-fae3-49b4-a2ed-8c33b6547d72",
    "outputId": "a19060cd-cada-43e1-ff95-becef629f1a9"
   },
   "outputs": [],
   "source": [
    "print(buffer_metrics_500.columns.tolist())\n",
    "print(\"index name:\", buffer_metrics_500.index.name)\n",
    "print(buffer_metrics_500.filter(like='cluster').head())  # shows any cluster-like columns\n"
   ]
  },
  {
   "cell_type": "code",
   "execution_count": null,
   "id": "9fb89eaa-be0d-4575-ac32-bcf3d3fc33c6",
   "metadata": {
    "id": "9fb89eaa-be0d-4575-ac32-bcf3d3fc33c6"
   },
   "outputs": [],
   "source": [
    "if 'cluster' not in buffer_metrics_500.columns and buffer_metrics_500.index.name == 'cluster':\n",
    "    buffer_metrics_500 = buffer_metrics_500.reset_index()"
   ]
  },
  {
   "cell_type": "code",
   "execution_count": null,
   "id": "e54b9c10-8b17-4471-ac8e-921914deb3aa",
   "metadata": {
    "id": "e54b9c10-8b17-4471-ac8e-921914deb3aa",
    "outputId": "02d9756e-3f83-499e-c5ce-9b58ac4c12a3"
   },
   "outputs": [],
   "source": [
    "# Ensuring cluster column exists on buffer_metrics_500 \n",
    "# build a clean lookup of (Point ID -> cluster)\n",
    "clu = (df_log_clean[['Point ID', 'cluster']]\n",
    "       .drop_duplicates('Point ID'))\n",
    "\n",
    "# making sure dtypes match for the join key\n",
    "buffer_metrics_500['Point ID'] = pd.to_numeric(buffer_metrics_500['Point ID'], errors='coerce')\n",
    "clu['Point ID'] = pd.to_numeric(clu['Point ID'], errors='coerce')\n",
    "\n",
    "# merging (each Point ID should map to exactly one cluster)\n",
    "buffer_metrics_500 = (buffer_metrics_500\n",
    "    .merge(clu, on='Point ID', how='left', validate='m:1')\n",
    "    .dropna(subset=['cluster']))\n",
    "buffer_metrics_500['cluster'] = buffer_metrics_500['cluster'].astype(int)\n",
    "\n",
    "# Sanity check\n",
    "assert 'cluster' in buffer_metrics_500.columns\n",
    "\n",
    "\n",
    "# Color mapping per cluster\n",
    "clusters = sorted(buffer_metrics_500['cluster'].unique())\n",
    "palette = sns.color_palette(\"husl\", n_colors=len(clusters))\n",
    "hex_colors = [colors.to_hex(c) for c in palette]\n",
    "color_map = dict(zip(clusters, hex_colors))\n",
    "\n",
    "# Lables\n",
    "labels = {\n",
    "    2: 'High human footprint (shallow)',\n",
    "    0: 'High roads, moderate buildings (deeper)',\n",
    "    3: 'Low–moderate human footprint',\n",
    "    1: 'Remote / undeveloped'}\n",
    "\n",
    "# Fallback to \"Cluster X\" if a label is missing\n",
    "def layer_name(c):\n",
    "    return f\"Cluster {c} – {labels.get(c, '')}\".strip(' –')\n",
    "\n",
    "# Creating a map\n",
    "map_center = [buffer_metrics_500['latitude'].mean(), buffer_metrics_500['longitude'].mean()]\n",
    "m = folium.Map(location=map_center, zoom_start=5, tiles='CartoDB positron', control_scale=True)\n",
    "\n",
    "# One FeatureGroup per cluster \n",
    "layers = {\n",
    "    c: folium.FeatureGroup(name=layer_name(c), show=True)\n",
    "    for c in clusters}\n",
    "\n",
    "# Add markers to their cluster layer\n",
    "for _, row in buffer_metrics_500.iterrows():\n",
    "    c = int(row['cluster'])\n",
    "    folium.CircleMarker(\n",
    "        location=[row['latitude'], row['longitude']],\n",
    "        radius=2,\n",
    "        color=color_map[c],\n",
    "        fill=True,\n",
    "        fill_opacity=0.8,\n",
    "        popup=(f\"Cluster: {c} | \"\n",
    "               f\"Buildings: {row['Building count']}, \"\n",
    "               f\"Road length: {row['Road length']:.1f}, \"\n",
    "               f\"Bathymetry mean: {row['Bathymetry mean']:.2f}, \"\n",
    "               f\"Other points: {row['Other points']}\")\n",
    "    ).add_to(layers[c])\n",
    "\n",
    "# Add the cluster layers to the map\n",
    "for fg in layers.values():\n",
    "    fg.add_to(m)\n",
    "\n",
    "# Clickable layer control (checkboxes for each cluster)\n",
    "folium.LayerControl(collapsed=False).add_to(m)\n",
    "\n",
    "# Title\n",
    "m.get_root().html.add_child(folium.Element(\"\"\"\n",
    "<div style=\"position: fixed; top: 10px; left: 50%; transform: translateX(-50%);\n",
    " z-index: 9999; background: white; padding: 6px 10px; border: 1px solid #777;\n",
    " border-radius: 6px; font-weight: 600; box-shadow: 0 1px 3px rgba(0,0,0,.2);\">\n",
    " Strandings by Species (snapped points)\n",
    "</div>\n",
    "\"\"\"))\n",
    "\n",
    "# --- Add a small static color legend (just for reference) ---\n",
    "legend_html = \"\"\"\n",
    "<div style=\"\n",
    "    position: fixed;\n",
    "    bottom: 20px; left: 20px; z-index: 9999;\n",
    "    background: white; padding: 10px 12px; border: 1px solid #ccc;\n",
    "    border-radius: 6px; box-shadow: 0 2px 6px rgba(0,0,0,0.15);\n",
    "    font-size: 13px;\">\n",
    "  <div style=\"font-weight:600; margin-bottom:6px;\">Clusters</div>\n",
    "  {}\n",
    "</div>\n",
    "\"\"\".format(\n",
    "    \"\".join(\n",
    "        f'<div style=\"display:flex; align-items:center; margin:3px 0;\">'\n",
    "        f'<span style=\"display:inline-block; width:14px; height:14px; '\n",
    "        f'background:{color_map[c]}; margin-right:6px; border:1px solid #888;\"></span>'\n",
    "        f'{layer_name(c)}</div>'\n",
    "        for c in clusters))\n",
    "\n",
    "m.get_root().html.add_child(folium.Element(legend_html))\n",
    "\n",
    "m\n"
   ]
  },
  {
   "cell_type": "code",
   "execution_count": null,
   "id": "cab8d3e3-479a-44c6-8293-f208501de994",
   "metadata": {
    "id": "cab8d3e3-479a-44c6-8293-f208501de994"
   },
   "outputs": [],
   "source": [
    "m.save(\"Method_results_images/K_Means_UK_Ireland_Cluster_Map.html\")"
   ]
  },
  {
   "cell_type": "markdown",
   "id": "fbbcdeb7-a80f-414a-a6cd-58d51371c4a1",
   "metadata": {
    "id": "fbbcdeb7-a80f-414a-a6cd-58d51371c4a1"
   },
   "source": [
    "#### Link to K-means map [Netlify map](https://cluster-map-uk.netlify.app/)"
   ]
  },
  {
   "cell_type": "markdown",
   "id": "0d3878c1-6f7b-4aa3-bcf0-af0f3b6a02a4",
   "metadata": {
    "id": "0d3878c1-6f7b-4aa3-bcf0-af0f3b6a02a4"
   },
   "source": [
    "#### Pairplot of cluster features"
   ]
  },
  {
   "cell_type": "code",
   "execution_count": null,
   "id": "538114fb-6117-4ce1-83de-77c176ac110f",
   "metadata": {
    "id": "538114fb-6117-4ce1-83de-77c176ac110f",
    "outputId": "d34e2d93-fa23-455e-e1b6-b024cf4012b9"
   },
   "outputs": [],
   "source": [
    "# Removing the warning output for astetics\n",
    "warnings.filterwarnings(\"ignore\", category=FutureWarning, module=\"seaborn\")\n",
    "# Creating pairplot\n",
    "sns.pairplot(\n",
    "    df_log_clean,\n",
    "    vars=['Building count', 'Road length', 'Bathymetry mean', 'Other points'],\n",
    "    hue='cluster',\n",
    "    palette='Set2')\n",
    "plt.savefig(\"Method_results_images/K_Means_Cluster_Pairplot.png\", dpi=150, bbox_inches=\"tight\")\n",
    "plt.show()\n"
   ]
  },
  {
   "cell_type": "markdown",
   "id": "6ed12d68-a5e7-4599-8540-f30b5a61a0ca",
   "metadata": {
    "id": "6ed12d68-a5e7-4599-8540-f30b5a61a0ca"
   },
   "source": [
    "#### Principal Component Analysis (PCA) for dimentional reduction"
   ]
  },
  {
   "cell_type": "code",
   "execution_count": null,
   "id": "bfbdfa61-75c6-4912-ab70-22547b8ad247",
   "metadata": {
    "id": "bfbdfa61-75c6-4912-ab70-22547b8ad247",
    "outputId": "3f975aaa-aab5-4cfd-f3e8-da2d96945d51"
   },
   "outputs": [],
   "source": [
    "#Creating 2D representation\n",
    "pca = PCA(n_components=2)\n",
    "# Fitting PCA and transforming data\n",
    "X_pca = pca.fit_transform(df_log_clean[[\n",
    "    'Building_trans',\n",
    "    'Road_trans',\n",
    "    'Bathymetry_trans',\n",
    "    'Other_points_trans']])\n",
    "# Adding 2 components back\n",
    "df_log_clean['pca_1'] = X_pca[:,0]\n",
    "df_log_clean['pca_2'] = X_pca[:,1]\n",
    "\n",
    "# Visulising\n",
    "plt.figure(figsize=(8,6))\n",
    "sns.scatterplot(\n",
    "    data=df_log_clean,\n",
    "    x='pca_1',\n",
    "    y='pca_2',\n",
    "    hue='cluster',\n",
    "    palette='Set2')\n",
    "\n",
    "plt.title(\"Clusters visualized with PCA\")\n",
    "plt.savefig(\"Method_results_images/K_Means_Clusters_PCA.png\", dpi=150, bbox_inches=\"tight\")\n",
    "plt.show()\n"
   ]
  },
  {
   "cell_type": "markdown",
   "id": "9750955d-dc3e-4da0-af7f-2a419aa4a5b7",
   "metadata": {
    "id": "9750955d-dc3e-4da0-af7f-2a419aa4a5b7"
   },
   "source": [
    "#### The PCA visualization shows that clusters 0, 2, and 3 overlap substantially, forming a gradient of sites with broadly similar levels of human presence. In contrast, cluster 1 is clearly separated along the first principal component, representing the remote and undeveloped areas, which form a distinct subgroup in the dataset.\n",
    "\n"
   ]
  },
  {
   "cell_type": "markdown",
   "id": "c59c94b4-94a5-425f-bd97-58a650e61ec9",
   "metadata": {
    "id": "c59c94b4-94a5-425f-bd97-58a650e61ec9"
   },
   "source": [
    "-----------------------------------------------------"
   ]
  },
  {
   "cell_type": "code",
   "execution_count": null,
   "id": "60652043-8ba3-41b1-83fd-4db5ecd8d0d4",
   "metadata": {
    "id": "60652043-8ba3-41b1-83fd-4db5ecd8d0d4",
    "outputId": "7faa4ea9-6768-4fdf-e554-9cf23884ea02"
   },
   "outputs": [],
   "source": [
    "features = ['Building count','Road length','Bathymetry mean','Other points']\n",
    "loadings = pd.DataFrame(pca.components_.T, index=features, columns=['PC1','PC2'])\n",
    "print(loadings.sort_values('PC1'))\n",
    "\n",
    "# Save\n",
    "#os.makedirs(\"Method_results_images\", exist_ok=True)\n",
    "\n",
    "cluster_table.to_html(\"Method_results_images/K_Means_Cluster_PC1_PC2_Table.html\", float_format=\"%.2f\")\n"
   ]
  },
  {
   "cell_type": "markdown",
   "id": "fbea5d3d-75b1-4467-814b-0bbdb93509d5",
   "metadata": {
    "id": "fbea5d3d-75b1-4467-814b-0bbdb93509d5"
   },
   "source": [
    "#### The PCA loadings show that PC1 is dominated by road length, with smaller contributions from building count and other points, meaning this axis primarily reflects variation in human infrastructure. PC2, in contrast, is driven mainly by other points and bathymetry, capturing ecological and environmental differences. This supports the PCA scatterplot interpretation, where the remote and undeveloped cluster (cluster 1) separates clearly along PC1 due to its very low levels of infrastructure."
   ]
  },
  {
   "cell_type": "code",
   "execution_count": null,
   "id": "09251c2e-3cfb-4aa6-bc51-cbebfe2032ff",
   "metadata": {
    "id": "09251c2e-3cfb-4aa6-bc51-cbebfe2032ff",
    "outputId": "b1abb804-7f58-4bc8-8cd1-4c36c4778a67"
   },
   "outputs": [],
   "source": [
    "# Percent variance each PC explains\n",
    "expl = pca.explained_variance_ratio_\n",
    "print({f'PC{i+1}': f'{v*100:.1f}%' for i, v in enumerate(expl)})\n",
    "\n",
    "# Top contributor per PC (by absolute loading)\n",
    "abs_load = loadings.abs()\n",
    "print(abs_load.idxmax())  # variable with largest impact for each PC\n"
   ]
  },
  {
   "cell_type": "markdown",
   "id": "774215ad-278a-49d7-a6c3-edafe9b0d07f",
   "metadata": {
    "id": "774215ad-278a-49d7-a6c3-edafe9b0d07f"
   },
   "source": [
    "#### The PCA loadings show that PC1 is dominated by road length, with smaller contributions from building count and other points, meaning this axis primarily reflects variation in human infrastructure. PC2, in contrast, is driven mainly by other points and bathymetry, capturing ecological and environmental differences. This supports the PCA scatterplot interpretation, where the remote and undeveloped cluster (cluster 1) separates clearly along PC1 due to its very low levels of infrastructure."
   ]
  },
  {
   "cell_type": "code",
   "execution_count": null,
   "id": "2d5d5e82-b988-463b-8bed-37339d1eda21",
   "metadata": {
    "id": "2d5d5e82-b988-463b-8bed-37339d1eda21"
   },
   "outputs": [],
   "source": [
    "# loadings table (you already have `loadings`)\n",
    "loadings.round(3).to_html(\"Method_results_images/K_Means_PCA_Loadings.html\")\n",
    "#loadings.round(3).to_csv(\"Method_results_images/K_Means_PCA_Loadings.csv\")\n",
    "\n",
    "# explained variance table\n",
    "expl_tbl = pd.DataFrame({\n",
    "    'PC': [f'PC{i+1}' for i in range(len(pca.explained_variance_ratio_))],\n",
    "    'Explained variance (%)': (pca.explained_variance_ratio_*100).round(1)})\n",
    "\n",
    "expl_tbl.to_html(\"Method_results_images/K_Means_PCA_Explained_Variance.html\", index=False)\n",
    "#expl_tbl.to_csv(\"Method_results_images/K_Means_PCA_Explained_Variance.csv\", index=False)\n"
   ]
  },
  {
   "cell_type": "markdown",
   "id": "f1d9f9be-842c-4759-ad7b-c2732002f703",
   "metadata": {
    "id": "f1d9f9be-842c-4759-ad7b-c2732002f703"
   },
   "source": [
    "## Continues with the Logistic Regression notebook"
   ]
  }
 ],
 "metadata": {
  "colab": {
   "provenance": []
  },
  "kernelspec": {
   "display_name": "Python 3 (ipykernel)",
   "language": "python",
   "name": "python3"
  },
  "language_info": {
   "codemirror_mode": {
    "name": "ipython",
    "version": 3
   },
   "file_extension": ".py",
   "mimetype": "text/x-python",
   "name": "python",
   "nbconvert_exporter": "python",
   "pygments_lexer": "ipython3",
   "version": "3.11.7"
  }
 },
 "nbformat": 4,
 "nbformat_minor": 5
}
